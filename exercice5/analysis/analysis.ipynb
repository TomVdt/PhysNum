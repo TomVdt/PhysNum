{
 "cells": [
  {
   "cell_type": "code",
   "execution_count": 88,
   "metadata": {},
   "outputs": [],
   "source": [
    "# %matplotlib inline\n",
    "import numpy as np\n",
    "import scipy as sc\n",
    "import matplotlib as mpl\n",
    "import matplotlib.pyplot as plt\n",
    "\n",
    "from utils import *\n",
    "\n",
    "mpl.rcParams.update(rcParams)"
   ]
  },
  {
   "cell_type": "code",
   "execution_count": 89,
   "metadata": {},
   "outputs": [
    {
     "name": "stderr",
     "output_type": "stream",
     "text": [
      "src/Exercice5_students.cpp:145:9: warning: unused variable 'Nsteps' [-Wunused-variable]\n",
      "  145 |         double Nsteps;\n",
      "      |                ^~~~~~\n",
      "src/Exercice5_students.cpp:171:15: warning: unused variable 'x1' [-Wunused-variable]\n",
      "  171 |         const double x1 = configFile.get<double>(\"x1\");\n",
      "      |                      ^~\n",
      "src/Exercice5_students.cpp:172:15: warning: unused variable 'x2' [-Wunused-variable]\n",
      "  172 |         const double x2 = configFile.get<double>(\"x2\");\n",
      "      |                      ^~\n",
      "In file included from src/Exercice5_students.cpp:7:\n",
      "src/ConfigFile.tpp:67:8: warning: variable 'out' is used uninitialized whenever 'if' condition is false [-Wsometimes-uninitialized]\n",
      "   67 |   if ( val != configMap.end() ) {\n",
      "      |        ^~~~~~~~~~~~~~~~~~~~~~\n",
      "src/Exercice5_students.cpp:160:33: note: in instantiation of function template specialization 'ConfigFile::get<double>' requested here\n",
      "  160 |         const double tfin = configFile.get<double>(\"tfin\");\n",
      "      |                                        ^\n",
      "src/ConfigFile.tpp:74:10: note: uninitialized use occurs here\n",
      "   74 |   return out;\n",
      "      |          ^~~\n",
      "src/ConfigFile.tpp:67:3: note: remove the 'if' if its condition is always true\n",
      "   67 |   if ( val != configMap.end() ) {\n",
      "      |   ^~~~~~~~~~~~~~~~~~~~~~~~~~~~~\n",
      "   68 |     std::istringstream iss(val->second);\n",
      "   69 |     iss >> out;\n",
      "   70 |     std::cout << \"\\t\" << key << \"=\" << out << std::endl;\n",
      "   71 |   }else{\n",
      "      |    ~~~~~\n",
      "   72 |     std::cerr << \"[ConfigFile] Le parametre suivant est manquant : \" << key << std::endl;\n",
      "      |     ~~~~~~~~~~~~~~~~~~~~~~~~~~~~~~~~~~~~~~~~~~~~~~~~~~~~~~~~~~~~~~~~~~~~~~~~~~~~~~~~~~~~~\n",
      "   73 |   }\n",
      "      |   ~\n",
      "src/ConfigFile.tpp:66:8: note: initialize the variable 'out' to silence this warning\n",
      "   66 |   T out;\n",
      "      |        ^\n",
      "      |         = 0.0\n",
      "src/ConfigFile.tpp:67:8: warning: variable 'out' is used uninitialized whenever 'if' condition is false [-Wsometimes-uninitialized]\n",
      "   67 |   if ( val != configMap.end() ) {\n",
      "      |        ^~~~~~~~~~~~~~~~~~~~~~\n",
      "src/Exercice5_students.cpp:161:28: note: in instantiation of function template specialization 'ConfigFile::get<int>' requested here\n",
      "  161 |         const int nx = configFile.get<int>(\"nx\"); // nb d'intervalles\n",
      "      |                                   ^\n",
      "src/ConfigFile.tpp:74:10: note: uninitialized use occurs here\n",
      "   74 |   return out;\n",
      "      |          ^~~\n",
      "src/ConfigFile.tpp:67:3: note: remove the 'if' if its condition is always true\n",
      "   67 |   if ( val != configMap.end() ) {\n",
      "      |   ^~~~~~~~~~~~~~~~~~~~~~~~~~~~~\n",
      "   68 |     std::istringstream iss(val->second);\n",
      "   69 |     iss >> out;\n",
      "   70 |     std::cout << \"\\t\" << key << \"=\" << out << std::endl;\n",
      "   71 |   }else{\n",
      "      |    ~~~~~\n",
      "   72 |     std::cerr << \"[ConfigFile] Le parametre suivant est manquant : \" << key << std::endl;\n",
      "      |     ~~~~~~~~~~~~~~~~~~~~~~~~~~~~~~~~~~~~~~~~~~~~~~~~~~~~~~~~~~~~~~~~~~~~~~~~~~~~~~~~~~~~~\n",
      "   73 |   }\n",
      "      |   ~\n",
      "src/ConfigFile.tpp:66:8: note: initialize the variable 'out' to silence this warning\n",
      "   66 |   T out;\n",
      "      |        ^\n",
      "      |         = 0\n",
      "5 warnings generated.\n"
     ]
    }
   ],
   "source": [
    "%%bash\n",
    "cd .. && make clean && make"
   ]
  },
  {
   "cell_type": "code",
   "execution_count": 90,
   "metadata": {},
   "outputs": [],
   "source": [
    "config_name = 'example'\n",
    "conf = load_conf(config_name)"
   ]
  },
  {
   "cell_type": "code",
   "execution_count": 91,
   "metadata": {},
   "outputs": [
    {
     "name": "stdout",
     "output_type": "stream",
     "text": [
      "Running simulations... Done 1/1\n"
     ]
    }
   ],
   "source": [
    "# params, data_x, data_v, data_f\n",
    "dataset = run_with_params(\n",
    "    config_name,\n",
    "    [{}]\n",
    "    # [{'tfin': 10}]\n",
    "    # gen_variations({\n",
    "    #     'param': [...],\n",
    "    # })\n",
    ")"
   ]
  },
  {
   "cell_type": "markdown",
   "metadata": {},
   "source": [
    "# Plots!"
   ]
  },
  {
   "cell_type": "code",
   "execution_count": 92,
   "metadata": {},
   "outputs": [],
   "source": [
    "# Do your stuff here pwease\n",
    "%matplotlib qt\n",
    "import matplotlib.animation as mpla\n",
    "\n",
    "params, x, v, f = dataset[0]\n",
    "\n",
    "plt.figure(figsize=(8, 8))\n",
    "\n",
    "line, = plt.plot(x, f[0,1:], 'x-', markersize=5)\n",
    "size = f.shape[0]\n",
    "\n",
    "def animate(i) -> Any:\n",
    "    idx = i % size\n",
    "    line.set_data(x, f[idx,1:])\n",
    "\n",
    "anim = mpla.FuncAnimation(plt.gcf(), animate, interval=20, cache_frame_data=True, frames=size)\n",
    "\n",
    "plt.xlabel(r'$x$ [m]')\n",
    "plt.ylabel(r'$y$ [m]')\n",
    "plt.ylim(-1, 1)\n",
    "plt.grid()"
   ]
  }
 ],
 "metadata": {
  "kernelspec": {
   "display_name": ".venv",
   "language": "python",
   "name": "python3"
  },
  "language_info": {
   "codemirror_mode": {
    "name": "ipython",
    "version": 3
   },
   "file_extension": ".py",
   "mimetype": "text/x-python",
   "name": "python",
   "nbconvert_exporter": "python",
   "pygments_lexer": "ipython3",
   "version": "3.12.2"
  }
 },
 "nbformat": 4,
 "nbformat_minor": 2
}
