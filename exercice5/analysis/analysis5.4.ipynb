{
 "cells": [
  {
   "cell_type": "code",
   "execution_count": 1,
   "metadata": {},
   "outputs": [],
   "source": [
    "# %matplotlib inline\n",
    "import numpy as np\n",
    "import scipy as sc\n",
    "import matplotlib as mpl\n",
    "import matplotlib.pyplot as plt\n",
    "\n",
    "from utils import *\n",
    "\n",
    "mpl.rcParams.update(rcParams)"
   ]
  },
  {
   "cell_type": "code",
   "execution_count": 2,
   "metadata": {},
   "outputs": [
    {
     "name": "stderr",
     "output_type": "stream",
     "text": [
      "src/Exercice5_students.cpp:145:9: warning: unused variable 'Nsteps' [-Wunused-variable]\n",
      "  145 |         double Nsteps;\n",
      "      |                ^~~~~~\n",
      "In file included from src/Exercice5_students.cpp:7:\n",
      "src/ConfigFile.tpp:67:8: warning: variable 'out' is used uninitialized whenever 'if' condition is false [-Wsometimes-uninitialized]\n",
      "   67 |   if ( val != configMap.end() ) {\n",
      "      |        ^~~~~~~~~~~~~~~~~~~~~~\n",
      "src/Exercice5_students.cpp:160:33: note: in instantiation of function template specialization 'ConfigFile::get<double>' requested here\n",
      "  160 |         const double tfin = configFile.get<double>(\"tfin\");\n",
      "      |                                        ^\n",
      "src/ConfigFile.tpp:74:10: note: uninitialized use occurs here\n",
      "   74 |   return out;\n",
      "      |          ^~~\n",
      "src/ConfigFile.tpp:67:3: note: remove the 'if' if its condition is always true\n",
      "   67 |   if ( val != configMap.end() ) {\n",
      "      |   ^~~~~~~~~~~~~~~~~~~~~~~~~~~~~\n",
      "   68 |     std::istringstream iss(val->second);\n",
      "   69 |     iss >> out;\n",
      "   70 |     std::cout << \"\\t\" << key << \"=\" << out << std::endl;\n",
      "   71 |   }else{\n",
      "      |    ~~~~~\n",
      "   72 |     std::cerr << \"[ConfigFile] Le parametre suivant est manquant : \" << key << std::endl;\n",
      "      |     ~~~~~~~~~~~~~~~~~~~~~~~~~~~~~~~~~~~~~~~~~~~~~~~~~~~~~~~~~~~~~~~~~~~~~~~~~~~~~~~~~~~~~\n",
      "   73 |   }\n",
      "      |   ~\n",
      "src/ConfigFile.tpp:66:8: note: initialize the variable 'out' to silence this warning\n",
      "   66 |   T out;\n",
      "      |        ^\n",
      "      |         = 0.0\n",
      "src/ConfigFile.tpp:67:8: warning: variable 'out' is used uninitialized whenever 'if' condition is false [-Wsometimes-uninitialized]\n",
      "   67 |   if ( val != configMap.end() ) {\n",
      "      |        ^~~~~~~~~~~~~~~~~~~~~~\n",
      "src/Exercice5_students.cpp:161:28: note: in instantiation of function template specialization 'ConfigFile::get<int>' requested here\n",
      "  161 |         const int nx = configFile.get<int>(\"nx\"); // nb d'intervalles\n",
      "      |                                   ^\n",
      "src/ConfigFile.tpp:74:10: note: uninitialized use occurs here\n",
      "   74 |   return out;\n",
      "      |          ^~~\n",
      "src/ConfigFile.tpp:67:3: note: remove the 'if' if its condition is always true\n",
      "   67 |   if ( val != configMap.end() ) {\n",
      "      |   ^~~~~~~~~~~~~~~~~~~~~~~~~~~~~\n",
      "   68 |     std::istringstream iss(val->second);\n",
      "   69 |     iss >> out;\n",
      "   70 |     std::cout << \"\\t\" << key << \"=\" << out << std::endl;\n",
      "   71 |   }else{\n",
      "      |    ~~~~~\n",
      "   72 |     std::cerr << \"[ConfigFile] Le parametre suivant est manquant : \" << key << std::endl;\n",
      "      |     ~~~~~~~~~~~~~~~~~~~~~~~~~~~~~~~~~~~~~~~~~~~~~~~~~~~~~~~~~~~~~~~~~~~~~~~~~~~~~~~~~~~~~\n",
      "   73 |   }\n",
      "      |   ~\n",
      "src/ConfigFile.tpp:66:8: note: initialize the variable 'out' to silence this warning\n",
      "   66 |   T out;\n",
      "      |        ^\n",
      "      |         = 0\n",
      "3 warnings generated.\n"
     ]
    }
   ],
   "source": [
    "%%bash\n",
    "cd .. && make clean && make"
   ]
  },
  {
   "cell_type": "code",
   "execution_count": 3,
   "metadata": {},
   "outputs": [],
   "source": [
    "config_name = 'corail'\n",
    "conf = load_conf(config_name)"
   ]
  },
  {
   "cell_type": "code",
   "execution_count": 4,
   "metadata": {},
   "outputs": [
    {
     "name": "stdout",
     "output_type": "stream",
     "text": [
      "Running simulations... Done 1/1\n"
     ]
    },
    {
     "name": "stderr",
     "output_type": "stream",
     "text": [
      "[ConfigFile] Ligne sans '=' : \"# Physique :\"\n"
     ]
    }
   ],
   "source": [
    "# params, data_x, data_v, data_f\n",
    "dataset = run_with_params(\n",
    "    config_name,\n",
    "    [{}]\n",
    "    # [{'tfin': 10}]\n",
    "    # gen_variations({\n",
    "    #     'param': [...],\n",
    "    # })\n",
    ")"
   ]
  },
  {
   "cell_type": "markdown",
   "metadata": {},
   "source": [
    "# Plots!"
   ]
  },
  {
   "cell_type": "code",
   "execution_count": 5,
   "metadata": {},
   "outputs": [
    {
     "ename": "IndexError",
     "evalue": "too many indices for array: array is 1-dimensional, but 2 were indexed",
     "output_type": "error",
     "traceback": [
      "\u001b[0;31m---------------------------------------------------------------------------\u001b[0m",
      "\u001b[0;31mIndexError\u001b[0m                                Traceback (most recent call last)",
      "Cell \u001b[0;32mIn[5], line 4\u001b[0m\n\u001b[1;32m      1\u001b[0m get_ipython()\u001b[38;5;241m.\u001b[39mrun_line_magic(\u001b[38;5;124m'\u001b[39m\u001b[38;5;124mmatplotlib\u001b[39m\u001b[38;5;124m'\u001b[39m, \u001b[38;5;124m'\u001b[39m\u001b[38;5;124minline\u001b[39m\u001b[38;5;124m'\u001b[39m)\n\u001b[1;32m      3\u001b[0m params, x, v, f, h0 \u001b[38;5;241m=\u001b[39m dataset[\u001b[38;5;241m0\u001b[39m]\n\u001b[0;32m----> 4\u001b[0m t \u001b[38;5;241m=\u001b[39m \u001b[43mf\u001b[49m\u001b[43m[\u001b[49m\u001b[43m:\u001b[49m\u001b[43m,\u001b[49m\u001b[38;5;241;43m0\u001b[39;49m\u001b[43m]\u001b[49m\n\u001b[1;32m      5\u001b[0m h \u001b[38;5;241m=\u001b[39m f[:,\u001b[38;5;241m1\u001b[39m:]\n\u001b[1;32m      6\u001b[0m X, Y \u001b[38;5;241m=\u001b[39m np\u001b[38;5;241m.\u001b[39mmeshgrid(x, t)\n",
      "\u001b[0;31mIndexError\u001b[0m: too many indices for array: array is 1-dimensional, but 2 were indexed"
     ]
    }
   ],
   "source": [
    "%matplotlib inline\n",
    "\n",
    "params, x, v, f, h0 = dataset[0]\n",
    "t = f[:,0]\n",
    "h = f[:,1:]\n",
    "X, Y = np.meshgrid(x, t)\n",
    "plt.contourf(X, Y, h, levels=20, cmap=plt.get_cmap('viridis'))\n",
    "plt.colorbar()\n",
    "plt.xlabel(r'$x$ [m]')\n",
    "plt.ylabel(r'$t$ [s]')"
   ]
  },
  {
   "cell_type": "code",
   "execution_count": 8,
   "metadata": {},
   "outputs": [
    {
     "data": {
      "image/png": "[encoded data removed]",
      "text/plain": [
       "<Figure size 400x300 with 1 Axes>"
      ]
     },
     "metadata": {},
     "output_type": "display_data"
    }
   ],
   "source": [
    "plt.plot(x, -h0)\n",
    "plt.xlabel(r'$x$ [m]')\n",
    "plt.ylabel(r'Profondeur [m]')\n",
    "plt.grid()"
   ]
  },
  {
   "cell_type": "code",
   "execution_count": 30,
   "metadata": {},
   "outputs": [],
   "source": [
    "# Do your stuff here pwease\n",
    "%matplotlib qt\n",
    "import matplotlib.animation as mpla\n",
    "\n",
    "params, x, v, f, _ = dataset[0]\n",
    "\n",
    "plt.figure(figsize=(8, 8))\n",
    "\n",
    "line, = plt.plot(x, f[0,1:], 'x-', markersize=5)\n",
    "size = f.shape[0]\n",
    "\n",
    "def animate(i) -> Any:\n",
    "    idx = i % size\n",
    "    line.set_data(x, f[idx,1:])\n",
    "\n",
    "anim = mpla.FuncAnimation(plt.gcf(), animate, interval=20, cache_frame_data=True, frames=size)\n",
    "\n",
    "plt.xlabel(r'$x$ [m]')\n",
    "plt.ylabel(r'$y$ [m]')\n",
    "plt.ylim(-2, 2)\n",
    "plt.grid()\n",
    "# anim.save('yeet.gif')"
   ]
  }
 ],
 "metadata": {
  "kernelspec": {
   "display_name": ".venv",
   "language": "python",
   "name": "python3"
  },
  "language_info": {
   "codemirror_mode": {
    "name": "ipython",
    "version": 3
   },
   "file_extension": ".py",
   "mimetype": "text/x-python",
   "name": "python",
   "nbconvert_exporter": "python",
   "pygments_lexer": "ipython3",
   "version": "3.12.3"
  }
 },
 "nbformat": 4,
 "nbformat_minor": 2
}
