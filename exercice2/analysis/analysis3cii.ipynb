{
 "cells": [
  {
   "cell_type": "code",
   "execution_count": 1,
   "metadata": {},
   "outputs": [],
   "source": [
    "# %matplotlib inline\n",
    "import numpy as np\n",
    "import matplotlib.pyplot as plt\n",
    "import matplotlib as mpl\n",
    "import subprocess\n",
    "import scipy as sc\n",
    "from concurrent.futures import ProcessPoolExecutor, Future\n",
    "from itertools import product\n",
    "\n",
    "mpl.rcParams.update({\n",
    "    \"text.usetex\": True,\n",
    "    \"font.family\": \"serif\",\n",
    "    \"axes.labelsize\": 12,\n",
    "    \"font.size\": 12,\n",
    "    \"legend.fontsize\": 10,\n",
    "    \"xtick.labelsize\": 12,\n",
    "    \"ytick.labelsize\": 12,\n",
    "    \"figure.figsize\": (4, 3),\n",
    "    \"text.latex.preamble\": \"\\n\".join([\n",
    "        r\"\\usepackage[utf8]{inputenc}\",\n",
    "        r\"\\usepackage[T1]{fontenc}\",\n",
    "        r\"\\usepackage[detect-all,locale=FR]{siunitx}\",\n",
    "    ]),\n",
    "    'lines.markersize': 10,\n",
    "    'lines.color': 'grey',\n",
    "    'scatter.marker': '+',\n",
    "    'errorbar.capsize': 3,\n",
    "    'savefig.bbox': 'tight',\n",
    "})"
   ]
  },
  {
   "cell_type": "code",
   "execution_count": 2,
   "metadata": {},
   "outputs": [],
   "source": [
    "path = '../'\n",
    "executable = 'bin/ex2'\n",
    "export_path = path + 'rapport/figures/'\n",
    "data_path = 'data/'\n",
    "config_path = 'bin/'\n",
    "config_name = 'chaos1'\n",
    "config_ext = '.conf'"
   ]
  },
  {
   "cell_type": "code",
   "execution_count": 3,
   "metadata": {},
   "outputs": [],
   "source": [
    "def stringify_dict(d: dict, sep=',') -> str:\n",
    "    return sep.join(map(lambda a: str(a[0]) + \"=\" + str(a[1]), tuple(d.items())))"
   ]
  },
  {
   "cell_type": "code",
   "execution_count": 4,
   "metadata": {},
   "outputs": [],
   "source": [
    "def run(config_file: str, output_file: str, params: dict = {}) -> None:\n",
    "    # print(f\"Running with config file {config_file}\")\n",
    "    options = stringify_dict(params, sep=' ')\n",
    "    cmd = f\"{path}{executable} {path}{config_file} output='{path}{output_file}' {options}\"\n",
    "    # print(f\"Running command `{cmd}`\")\n",
    "    subprocess.run(cmd, shell=True, stdout=subprocess.DEVNULL)\n",
    "    # print(\"Done\")"
   ]
  },
  {
   "cell_type": "code",
   "execution_count": 5,
   "metadata": {},
   "outputs": [],
   "source": [
    "def load_conf() -> dict:\n",
    "    conf = {}\n",
    "    with open(path + config_path + config_name + config_ext, 'r') as f:\n",
    "        lines = f.read().split('\\n')\n",
    "\n",
    "    for line in lines:\n",
    "        if not line:\n",
    "            continue\n",
    "        name, _, val, *_ = line.split(' ')\n",
    "        name = name.strip()\n",
    "        val = val.strip()\n",
    "        try:\n",
    "            conf[name] = float(val)\n",
    "        except ValueError:\n",
    "            conf[name] = val\n",
    "    \n",
    "    return conf"
   ]
  },
  {
   "cell_type": "code",
   "execution_count": 61,
   "metadata": {},
   "outputs": [],
   "source": [
    "conf = load_conf()\n",
    "\n",
    "omega0 = np.sqrt(conf['g']/conf['L'])\n",
    "omega = 2*omega0\n",
    "assert conf['Omega'] == omega\n",
    "tFin = 2 * np.pi / omega\n",
    "\n",
    "dts = np.linspace(1/3500, 1/100000, 20)\n",
    "nsteps = 1/dts"
   ]
  },
  {
   "cell_type": "code",
   "execution_count": 62,
   "metadata": {},
   "outputs": [
    {
     "name": "stdout",
     "output_type": "stream",
     "text": [
      "clang++ -o bin/ex2 src/Ex2_2024_student.cpp -std=c++17 -Wall -Wextra -O2 \n"
     ]
    }
   ],
   "source": [
    "%%bash\n",
    "cd .. && make clean && make"
   ]
  },
  {
   "cell_type": "code",
   "execution_count": 63,
   "metadata": {},
   "outputs": [
    {
     "name": "stdout",
     "output_type": "stream",
     "text": [
      "Running simulations... Done 40/40\n",
      "Done!\n"
     ]
    }
   ],
   "source": [
    "params_variations = {\n",
    "    'nsteps': nsteps,\n",
    "    'N': (10, 20),\n",
    "}\n",
    "all_params = tuple(\n",
    "    {a: b for a, b in zip(params_variations.keys(), c)} for c in product(*params_variations.values())\n",
    ")\n",
    "\n",
    "count = 0\n",
    "def done(fut: Future) -> None:\n",
    "    global count\n",
    "    count += 1\n",
    "    print(f'\\rRunning simulations... Done {count}/{len(all_params)}', end='')\n",
    "\n",
    "# Run simulations *IN PARALLEL*\n",
    "outputs = []  # List to store output file names\n",
    "with ProcessPoolExecutor(max_workers=8) as p:\n",
    "    print(f'\\rRunning simulations... Done {0}/{len(all_params)}', end='')\n",
    "    for i, params in enumerate(all_params):\n",
    "        output_file = f\"{data_path}{config_name},{stringify_dict(params)}.out\"\n",
    "        outputs.append(output_file)\n",
    "        future = p.submit(run, f'{config_path}{config_name}{config_ext}', output_file, params)\n",
    "        future.add_done_callback(done)\n",
    "        # run(f'{config_path}{config_name}{config_ext}', output_file, params)\n",
    "print('\\nDone!')"
   ]
  },
  {
   "cell_type": "code",
   "execution_count": 64,
   "metadata": {},
   "outputs": [],
   "source": [
    "# Load stuff in memory\n",
    "all_data = {}\n",
    "all_10_periods = {}\n",
    "all_20_periods = {}\n",
    "\n",
    "for file, params in zip(outputs, all_params):\n",
    "    data = np.loadtxt(path + file)\n",
    "    all_data[file] = (params, data)\n",
    "    if params['N'] == 10:\n",
    "        all_10_periods[file] = (params, data)\n",
    "    elif params['N'] == 20:\n",
    "        all_20_periods[file] = (params, data)\n",
    "    else:\n",
    "        print('FEUR ALERT')"
   ]
  },
  {
   "cell_type": "markdown",
   "metadata": {},
   "source": [
    "# Plots!"
   ]
  },
  {
   "cell_type": "code",
   "execution_count": 67,
   "metadata": {},
   "outputs": [
    {
     "name": "stdout",
     "output_type": "stream",
     "text": [
      "39.07117466630727\n"
     ]
    },
    {
     "data": {
      "image/png": "[encoded data removed]",
      "text/plain": [
       "<Figure size 400x300 with 1 Axes>"
      ]
     },
     "metadata": {},
     "output_type": "display_data"
    }
   ],
   "source": [
    "def calc(dataset: dict):\n",
    "    stuffies = []\n",
    "    for i, (params, data) in enumerate(dataset.values()):\n",
    "        tf, thetaf = data[:, 0], data[-1, 1]\n",
    "        stuffies.append(thetaf)\n",
    "    return stuffies\n",
    "\n",
    "norder = 2\n",
    "period = 2 * np.pi / omega\n",
    "dt = period / nsteps\n",
    "stuff = calc(all_10_periods)\n",
    "\n",
    "# Fit the stuff\n",
    "coefs = np.polyfit(dt**norder, stuff, 1)\n",
    "fitfunc = np.poly1d(coefs)\n",
    "print(fitfunc(0))\n",
    "\n",
    "plt.plot(dt**norder, stuff, '+-')\n",
    "# plt.plot([0, dt[-1]**norder], fitfunc([0, dt[-1]**norder]), '--', color='k', label=r'Fit')\n",
    "plt.xlabel(r'$(\\Delta t)^2$ [s]')\n",
    "plt.ylabel(r'$\\theta$ [rad]')\n",
    "# plt.legend()\n",
    "plt.grid()\n",
    "plt.ticklabel_format(axis='y', useOffset=False)\n",
    "plt.savefig(export_path + 'chaos1_10_periods_conv.pdf')"
   ]
  },
  {
   "cell_type": "code",
   "execution_count": 68,
   "metadata": {},
   "outputs": [
    {
     "data": {
      "image/png": "[encoded data removed]",
      "text/plain": [
       "<Figure size 400x300 with 1 Axes>"
      ]
     },
     "metadata": {},
     "output_type": "display_data"
    }
   ],
   "source": [
    "def calc(dataset: dict):\n",
    "    stuffies = []\n",
    "    for i, (params, data) in enumerate(dataset.values()):\n",
    "        tf, thetaf = data[:, 0], data[-1, 1]\n",
    "        stuffies.append(thetaf)\n",
    "    return stuffies\n",
    "\n",
    "norder = 2\n",
    "period = 2 * np.pi / omega\n",
    "dt = period / nsteps\n",
    "stuff = calc(all_20_periods)\n",
    "plt.plot(dt**norder, stuff, '+-', label=r'$\\theta$')\n",
    "plt.xlabel(r'$(\\Delta t)^2$ [s]')\n",
    "plt.ylabel(r'$\\theta$ [rad]')\n",
    "plt.grid()\n",
    "plt.savefig(export_path + 'chaos1_20_periods_conv.pdf')"
   ]
  }
 ],
 "metadata": {
  "kernelspec": {
   "display_name": ".venv",
   "language": "python",
   "name": "python3"
  },
  "language_info": {
   "codemirror_mode": {
    "name": "ipython",
    "version": 3
   },
   "file_extension": ".py",
   "mimetype": "text/x-python",
   "name": "python",
   "nbconvert_exporter": "python",
   "pygments_lexer": "ipython3",
   "version": "3.12.2"
  }
 },
 "nbformat": 4,
 "nbformat_minor": 2
}
