{
 "cells": [
  {
   "cell_type": "code",
   "execution_count": 21,
   "metadata": {},
   "outputs": [],
   "source": [
    "# %matplotlib inline\n",
    "import numpy as np\n",
    "import matplotlib.pyplot as plt\n",
    "import matplotlib as mpl\n",
    "import subprocess\n",
    "import scipy as sc\n",
    "from itertools import product\n",
    "\n",
    "mpl.rcParams.update({\n",
    "    \"text.usetex\": True,\n",
    "    \"font.family\": \"serif\",\n",
    "    \"axes.labelsize\": 12,\n",
    "    \"font.size\": 12,\n",
    "    \"legend.fontsize\": 10,\n",
    "    \"xtick.labelsize\": 12,\n",
    "    \"ytick.labelsize\": 12,\n",
    "    \"figure.figsize\": (6, 5),\n",
    "    \"text.latex.preamble\": \"\\n\".join([\n",
    "        r\"\\usepackage[utf8]{inputenc}\",\n",
    "        r\"\\usepackage[T1]{fontenc}\",\n",
    "        r\"\\usepackage[detect-all,locale=FR]{siunitx}\",\n",
    "    ]),\n",
    "    'lines.markersize': 10,\n",
    "    'lines.color': 'grey',\n",
    "    'scatter.marker': '+',\n",
    "    'errorbar.capsize': 3,\n",
    "    'savefig.bbox': 'tight',\n",
    "})"
   ]
  },
  {
   "cell_type": "code",
   "execution_count": 22,
   "metadata": {},
   "outputs": [],
   "source": [
    "path = '../'\n",
    "executable = 'bin/ex2'\n",
    "export_path = path + 'rapport/figures/'\n",
    "data_path = 'data/'\n",
    "config_path = 'bin/'\n",
    "config_name = 'poincarre1'\n",
    "config_ext = '.conf'"
   ]
  },
  {
   "cell_type": "code",
   "execution_count": 23,
   "metadata": {},
   "outputs": [],
   "source": [
    "def stringify_dict(d: dict, sep=',') -> str:\n",
    "    return sep.join(map(lambda a: str(a[0]) + \"=\" + str(a[1]), tuple(d.items())))"
   ]
  },
  {
   "cell_type": "code",
   "execution_count": 24,
   "metadata": {},
   "outputs": [],
   "source": [
    "def run(config_file: str, output_file: str, params: dict = {}) -> None:\n",
    "    options = stringify_dict(params, sep=' ')\n",
    "    cmd = f\"{path}{executable} {path}{config_file} output='{path}{output_file}' {options}\"\n",
    "    print(f\"Running command `{cmd}`\\n\", end='')\n",
    "    subprocess.run(cmd, shell=True, stdout=subprocess.DEVNULL)\n",
    "    return params"
   ]
  },
  {
   "cell_type": "code",
   "execution_count": 25,
   "metadata": {},
   "outputs": [],
   "source": [
    "def load_conf() -> dict:\n",
    "    conf = {}\n",
    "    with open(path + config_path + config_name + config_ext, 'r') as f:\n",
    "        lines = f.read().split('\\n')\n",
    "\n",
    "    for line in lines:\n",
    "        if not line:\n",
    "            continue\n",
    "        name, _, val, *_ = line.split(' ')\n",
    "        name = name.strip()\n",
    "        val = val.strip()\n",
    "        try:\n",
    "            conf[name] = float(val)\n",
    "        except ValueError:\n",
    "            conf[name] = val\n",
    "    \n",
    "    return conf"
   ]
  },
  {
   "cell_type": "code",
   "execution_count": 26,
   "metadata": {},
   "outputs": [
    {
     "data": {
      "text/plain": [
       "14.007141035914502"
      ]
     },
     "execution_count": 26,
     "metadata": {},
     "output_type": "execute_result"
    }
   ],
   "source": [
    "conf = load_conf()\n",
    "\n",
    "omega0 = np.sqrt(conf['g']/conf['L'])\n",
    "2*omega0"
   ]
  },
  {
   "cell_type": "code",
   "execution_count": 27,
   "metadata": {},
   "outputs": [
    {
     "name": "stdout",
     "output_type": "stream",
     "text": [
      "clang++ -o bin/ex2 src/Ex2_2024_student.cpp -std=c++17 -Wall -Wextra -O2 \n"
     ]
    }
   ],
   "source": [
    "%%bash\n",
    "cd .. && make clean && make"
   ]
  },
  {
   "cell_type": "code",
   "execution_count": 28,
   "metadata": {},
   "outputs": [
    {
     "name": "stdout",
     "output_type": "stream",
     "text": [
      "Running command `../bin/ex2 ../bin/poincarre1.conf output='../data/poincarre1,theta0=0.7853981633974483,thetadot0=0.out' theta0=0.7853981633974483 thetadot0=0`\n",
      "Running command `../bin/ex2 ../bin/poincarre1.conf output='../data/poincarre1,theta0=0.5235987755982988,thetadot0=0.out' theta0=0.5235987755982988 thetadot0=0`\n"
     ]
    },
    {
     "name": "stdout",
     "output_type": "stream",
     "text": [
      "Running command `../bin/ex2 ../bin/poincarre1.conf output='../data/poincarre1,theta0=0.5235987755982988,thetadot0=2.out' theta0=0.5235987755982988 thetadot0=2`\n",
      "Running command `../bin/ex2 ../bin/poincarre1.conf output='../data/poincarre1,theta0=1,thetadot0=0.out' theta0=1 thetadot0=0`\n",
      "Running command `../bin/ex2 ../bin/poincarre1.conf output='../data/poincarre1,theta0=0.0001,thetadot0=0.out' theta0=0.0001 thetadot0=0`\n",
      "Running command `../bin/ex2 ../bin/poincarre1.conf output='../data/poincarre1,theta0=3.141591653589793,thetadot0=0.out' theta0=3.141591653589793 thetadot0=0`\n",
      "Running command `../bin/ex2 ../bin/poincarre1.conf output='../data/poincarre1,theta0=1.5707963267948966,thetadot0=0.out' theta0=1.5707963267948966 thetadot0=0`\n",
      "Running command `../bin/ex2 ../bin/poincarre1.conf output='../data/poincarre1,theta0=2.6179938779914944,thetadot0=0.out' theta0=2.6179938779914944 thetadot0=0`\n",
      "Done processing {'theta0': 0.5235987755982988, 'thetadot0': 2}\n",
      "Done processing {'theta0': 0.7853981633974483, 'thetadot0': 0}\n",
      "Done processing {'theta0': 1.5707963267948966, 'thetadot0': 0}\n",
      "Done processing {'theta0': 0.0001, 'thetadot0': 0}\n",
      "Done processing {'theta0': 1, 'thetadot0': 0}\n",
      "Done processing {'theta0': 0.5235987755982988, 'thetadot0': 0}\n",
      "Done processing {'theta0': 3.141591653589793, 'thetadot0': 0}\n",
      "Done processing {'theta0': 2.6179938779914944, 'thetadot0': 0}\n"
     ]
    }
   ],
   "source": [
    "from concurrent.futures import ProcessPoolExecutor, Future\n",
    "all_params = (\n",
    "    {'theta0': np.pi/6, 'thetadot0': 2},\n",
    "    *({'theta0': i, 'thetadot0': 0} for i in [\n",
    "        0.0001, np.pi/6, np.pi/4, 1, np.pi/2, 5*np.pi/6, np.pi-1e-6\n",
    "    ]),\n",
    ")\n",
    "\n",
    "def done(fut: Future):\n",
    "    print(f\"Done processing {fut.result()}\")\n",
    "\n",
    "# Run simulations *IN PARALLEL*\n",
    "outputs = []  # List to store output file names\n",
    "with ProcessPoolExecutor(max_workers=8) as p:\n",
    "    for params in all_params:\n",
    "        options = stringify_dict(params)\n",
    "        output_file = f\"{data_path}{config_name},{options}.out\"\n",
    "        outputs.append(output_file)\n",
    "        future = p.submit(run, f'{config_path}{config_name}{config_ext}', output_file, params)\n",
    "        future.add_done_callback(done)\n",
    "\n",
    "# outputs = []  # List to store output file names\n",
    "# for params in all_params:\n",
    "#     output_file = f\"{data_path}{config_name},{stringify_dict(params)}.out\"\n",
    "#     outputs.append(output_file)\n",
    "#     run(f'{config_path}{config_name}{config_ext}', output_file, params)"
   ]
  },
  {
   "cell_type": "code",
   "execution_count": 29,
   "metadata": {},
   "outputs": [],
   "source": [
    "# Load stuff in memory\n",
    "all_data = {}\n",
    "\n",
    "for file, params in zip(outputs, all_params):\n",
    "    data = np.loadtxt(path + file)\n",
    "    all_data[file] = (params, np.copy(data))"
   ]
  },
  {
   "cell_type": "markdown",
   "metadata": {},
   "source": [
    "# Plots!"
   ]
  },
  {
   "cell_type": "code",
   "execution_count": 30,
   "metadata": {},
   "outputs": [],
   "source": [
    "%matplotlib qt\n",
    "# plt.close()\n",
    "for (params, data) in all_data.values():\n",
    "    theta, thetadot = data[:,1], data[:,2]\n",
    "    modded = np.mod(theta+np.pi,2*np.pi)-np.pi\n",
    "    # if params['thetadot0']>0:\n",
    "    plt.scatter(modded, thetadot, s=1, marker='.', \n",
    "                label=f\"$\\\\theta_0={params['theta0']:.2f}, \\\\dot{{\\\\theta_0}}={params['thetadot0']:.2f} s^{{-1}}$\")\n",
    "    # else:\n",
    "    #     plt.scatter(modded, thetadot, s=1, marker='.', label=f\"$\\\\theta_0={params['theta0']:.2f}$\")\n",
    "plt.xlabel(r'$\\theta$ [rad]')\n",
    "plt.ylabel(r'$\\dot{\\theta}$ [rad/s]')\n",
    "plt.legend(loc='center left', bbox_to_anchor=(1.1, 0.5), markerscale=5)\n",
    "# plt.grid()\n",
    "plt.xlim(-np.pi, np.pi)\n",
    "ticks = np.arange(-np.pi, np.pi+0.1, np.pi/2)\n",
    "# labels = [\n",
    "#     r'$-\\pi$', r'$-\\frac{3\\pi}{4}$', r'$-\\frac{\\pi}{2}$', r'$-\\frac{\\pi}{4}$',\n",
    "#     r'$0$', r'$\\frac{\\pi}{4}$', r'$\\frac{\\pi}{2}$', r'$\\frac{3\\pi}{4}$', r'$\\pi$',\n",
    "# ]\n",
    "labels = [\n",
    "    r'$-\\pi$', r'$-\\frac{\\pi}{2}$',\n",
    "    r'$0$', r'$\\frac{\\pi}{2}$', r'$\\pi$',\n",
    "]\n",
    "plt.xticks(ticks, labels)\n",
    "# plt.axis('equal')\n",
    "plt.savefig(export_path + 'poincare_overkill.png')\n",
    "plt.show()"
   ]
  },
  {
   "cell_type": "code",
   "execution_count": null,
   "metadata": {},
   "outputs": [],
   "source": []
  }
 ],
 "metadata": {
  "kernelspec": {
   "display_name": ".venv",
   "language": "python",
   "name": "python3"
  },
  "language_info": {
   "codemirror_mode": {
    "name": "ipython",
    "version": 3
   },
   "file_extension": ".py",
   "mimetype": "text/x-python",
   "name": "python",
   "nbconvert_exporter": "python",
   "pygments_lexer": "ipython3",
   "version": "3.11.6"
  }
 },
 "nbformat": 4,
 "nbformat_minor": 2
}
