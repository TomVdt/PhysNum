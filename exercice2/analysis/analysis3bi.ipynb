{
 "cells": [
  {
   "cell_type": "code",
   "execution_count": 1,
   "metadata": {},
   "outputs": [],
   "source": [
    "# %matplotlib inline\n",
    "import numpy as np\n",
    "import matplotlib.pyplot as plt\n",
    "import matplotlib as mpl\n",
    "import subprocess\n",
    "import scipy as sc\n",
    "from itertools import product\n",
    "\n",
    "mpl.rcParams.update({\n",
    "    \"text.usetex\": True,\n",
    "    \"font.family\": \"serif\",\n",
    "    \"axes.labelsize\": 12,\n",
    "    \"font.size\": 12,\n",
    "    \"legend.fontsize\": 10,\n",
    "    \"xtick.labelsize\": 12,\n",
    "    \"ytick.labelsize\": 12,\n",
    "    \"figure.figsize\": (4, 3.5),\n",
    "    \"text.latex.preamble\": \"\\n\".join([\n",
    "        r\"\\usepackage[utf8]{inputenc}\",\n",
    "        r\"\\usepackage[T1]{fontenc}\",\n",
    "        r\"\\usepackage[detect-all,locale=FR]{siunitx}\",\n",
    "    ]),\n",
    "    'lines.markersize': 10,\n",
    "    'lines.color': 'grey',\n",
    "    'scatter.marker': '+',\n",
    "    'errorbar.capsize': 3,\n",
    "    'savefig.bbox': 'tight',\n",
    "})"
   ]
  },
  {
   "cell_type": "code",
   "execution_count": 2,
   "metadata": {},
   "outputs": [],
   "source": [
    "path = '../'\n",
    "executable = 'bin/ex2'\n",
    "export_path = path + 'rapport/figures/'\n",
    "data_path = 'data/'\n",
    "config_path = 'bin/'\n",
    "config_name = 'retraction'\n",
    "config_ext = '.conf'"
   ]
  },
  {
   "cell_type": "code",
   "execution_count": 3,
   "metadata": {},
   "outputs": [],
   "source": [
    "def stringify_dict(d: dict, sep=',') -> str:\n",
    "    return sep.join(map(lambda a: str(a[0]) + \"=\" + str(a[1]), tuple(d.items())))"
   ]
  },
  {
   "cell_type": "code",
   "execution_count": 4,
   "metadata": {},
   "outputs": [],
   "source": [
    "def run(config_file: str, output_file: str, params: dict = {}) -> None:\n",
    "    # print(f\"Running with config file {config_file}\")\n",
    "    options = stringify_dict(params, sep=' ')\n",
    "    cmd = f\"{path}{executable} {path}{config_file} output='{path}{output_file}' {options}\"\n",
    "    print(f\"Running command `{cmd}`\")\n",
    "    subprocess.run(cmd, shell=True, stdout=subprocess.DEVNULL)\n",
    "    # print(\"Done\")"
   ]
  },
  {
   "cell_type": "code",
   "execution_count": 5,
   "metadata": {},
   "outputs": [],
   "source": [
    "# nsteps = np.array([*range(500, 2001, 100)])\n",
    "nsteps = np.geomspace(1000, 1000, 100)\n",
    "nsimul = len(nsteps)  # Number of simulations to perform\n",
    "\n",
    "conf = {}\n",
    "with open(path + config_path + config_name + config_ext, 'r') as f:\n",
    "    lines = f.read().split('\\n')\n",
    "\n",
    "for line in lines:\n",
    "    if not line:\n",
    "        continue\n",
    "    name, _, val, *_ = line.split(' ')\n",
    "    name = name.strip()\n",
    "    val = val.strip()\n",
    "    try:\n",
    "        conf[name] = float(val)\n",
    "    except ValueError:\n",
    "        conf[name] = val\n",
    "\n",
    "# Vérfier bon tFin\n",
    "assert 0.96 * conf['L'] / abs(conf['alpha']) == conf['tFin']\n",
    "dt = conf['tFin'] / nsteps"
   ]
  },
  {
   "cell_type": "code",
   "execution_count": 6,
   "metadata": {},
   "outputs": [
    {
     "name": "stdout",
     "output_type": "stream",
     "text": [
      "clang++ -o bin/ex2 src/Ex2_2024_student.cpp -std=c++17 -Wall -Wextra -O2 \n"
     ]
    },
    {
     "name": "stderr",
     "output_type": "stream",
     "text": [
      "src/Ex2_2024_student.cpp:106:16: warning: unused variable 'pi' [-Wunused-variable]\n",
      "  106 |                 const double pi = 3.1415926535897932384626433832795028841971e0;\n",
      "      |                              ^~\n",
      "1 warning generated.\n"
     ]
    }
   ],
   "source": [
    "%%bash\n",
    "cd .. && make clean && make"
   ]
  },
  {
   "cell_type": "code",
   "execution_count": 7,
   "metadata": {},
   "outputs": [
    {
     "name": "stdout",
     "output_type": "stream",
     "text": [
      "Running command `../bin/ex2 ../bin/retraction.conf output='../data/retraction,nsteps=1000.0.out' nsteps=1000.0`\n",
      "Running command `../bin/ex2 ../bin/retraction.conf output='../data/retraction,nsteps=1000.0.out' nsteps=1000.0`\n",
      "Running command `../bin/ex2 ../bin/retraction.conf output='../data/retraction,nsteps=1000.0.out' nsteps=1000.0`\n",
      "Running command `../bin/ex2 ../bin/retraction.conf output='../data/retraction,nsteps=1000.0.out' nsteps=1000.0`\n",
      "Running command `../bin/ex2 ../bin/retraction.conf output='../data/retraction,nsteps=1000.0.out' nsteps=1000.0`\n",
      "Running command `../bin/ex2 ../bin/retraction.conf output='../data/retraction,nsteps=1000.0.out' nsteps=1000.0`\n",
      "Running command `../bin/ex2 ../bin/retraction.conf output='../data/retraction,nsteps=1000.0.out' nsteps=1000.0`\n",
      "Running command `../bin/ex2 ../bin/retraction.conf output='../data/retraction,nsteps=1000.0.out' nsteps=1000.0`\n",
      "Running command `../bin/ex2 ../bin/retraction.conf output='../data/retraction,nsteps=1000.0.out' nsteps=1000.0`\n",
      "Running command `../bin/ex2 ../bin/retraction.conf output='../data/retraction,nsteps=1000.0.out' nsteps=1000.0`\n",
      "Running command `../bin/ex2 ../bin/retraction.conf output='../data/retraction,nsteps=1000.0.out' nsteps=1000.0`\n",
      "Running command `../bin/ex2 ../bin/retraction.conf output='../data/retraction,nsteps=1000.0.out' nsteps=1000.0`\n",
      "Running command `../bin/ex2 ../bin/retraction.conf output='../data/retraction,nsteps=1000.0.out' nsteps=1000.0`\n",
      "Running command `../bin/ex2 ../bin/retraction.conf output='../data/retraction,nsteps=1000.0.out' nsteps=1000.0`\n",
      "Running command `../bin/ex2 ../bin/retraction.conf output='../data/retraction,nsteps=1000.0.out' nsteps=1000.0`\n",
      "Running command `../bin/ex2 ../bin/retraction.conf output='../data/retraction,nsteps=1000.0.out' nsteps=1000.0`\n",
      "Running command `../bin/ex2 ../bin/retraction.conf output='../data/retraction,nsteps=1000.0.out' nsteps=1000.0`\n",
      "Running command `../bin/ex2 ../bin/retraction.conf output='../data/retraction,nsteps=1000.0.out' nsteps=1000.0`\n",
      "Running command `../bin/ex2 ../bin/retraction.conf output='../data/retraction,nsteps=1000.0.out' nsteps=1000.0`\n",
      "Running command `../bin/ex2 ../bin/retraction.conf output='../data/retraction,nsteps=1000.0.out' nsteps=1000.0`\n",
      "Running command `../bin/ex2 ../bin/retraction.conf output='../data/retraction,nsteps=1000.0.out' nsteps=1000.0`\n",
      "Running command `../bin/ex2 ../bin/retraction.conf output='../data/retraction,nsteps=1000.0.out' nsteps=1000.0`\n",
      "Running command `../bin/ex2 ../bin/retraction.conf output='../data/retraction,nsteps=1000.0.out' nsteps=1000.0`\n",
      "Running command `../bin/ex2 ../bin/retraction.conf output='../data/retraction,nsteps=1000.0.out' nsteps=1000.0`\n",
      "Running command `../bin/ex2 ../bin/retraction.conf output='../data/retraction,nsteps=1000.0.out' nsteps=1000.0`\n",
      "Running command `../bin/ex2 ../bin/retraction.conf output='../data/retraction,nsteps=1000.0.out' nsteps=1000.0`\n",
      "Running command `../bin/ex2 ../bin/retraction.conf output='../data/retraction,nsteps=1000.0.out' nsteps=1000.0`\n",
      "Running command `../bin/ex2 ../bin/retraction.conf output='../data/retraction,nsteps=1000.0.out' nsteps=1000.0`\n",
      "Running command `../bin/ex2 ../bin/retraction.conf output='../data/retraction,nsteps=1000.0.out' nsteps=1000.0`\n",
      "Running command `../bin/ex2 ../bin/retraction.conf output='../data/retraction,nsteps=1000.0.out' nsteps=1000.0`\n",
      "Running command `../bin/ex2 ../bin/retraction.conf output='../data/retraction,nsteps=1000.0.out' nsteps=1000.0`\n",
      "Running command `../bin/ex2 ../bin/retraction.conf output='../data/retraction,nsteps=1000.0.out' nsteps=1000.0`\n",
      "Running command `../bin/ex2 ../bin/retraction.conf output='../data/retraction,nsteps=1000.0.out' nsteps=1000.0`\n",
      "Running command `../bin/ex2 ../bin/retraction.conf output='../data/retraction,nsteps=1000.0.out' nsteps=1000.0`\n",
      "Running command `../bin/ex2 ../bin/retraction.conf output='../data/retraction,nsteps=1000.0.out' nsteps=1000.0`\n",
      "Running command `../bin/ex2 ../bin/retraction.conf output='../data/retraction,nsteps=1000.0.out' nsteps=1000.0`\n",
      "Running command `../bin/ex2 ../bin/retraction.conf output='../data/retraction,nsteps=1000.0.out' nsteps=1000.0`\n",
      "Running command `../bin/ex2 ../bin/retraction.conf output='../data/retraction,nsteps=1000.0.out' nsteps=1000.0`\n",
      "Running command `../bin/ex2 ../bin/retraction.conf output='../data/retraction,nsteps=1000.0.out' nsteps=1000.0`\n",
      "Running command `../bin/ex2 ../bin/retraction.conf output='../data/retraction,nsteps=1000.0.out' nsteps=1000.0`\n",
      "Running command `../bin/ex2 ../bin/retraction.conf output='../data/retraction,nsteps=1000.0.out' nsteps=1000.0`\n",
      "Running command `../bin/ex2 ../bin/retraction.conf output='../data/retraction,nsteps=1000.0.out' nsteps=1000.0`\n",
      "Running command `../bin/ex2 ../bin/retraction.conf output='../data/retraction,nsteps=1000.0.out' nsteps=1000.0`\n",
      "Running command `../bin/ex2 ../bin/retraction.conf output='../data/retraction,nsteps=1000.0.out' nsteps=1000.0`\n",
      "Running command `../bin/ex2 ../bin/retraction.conf output='../data/retraction,nsteps=1000.0.out' nsteps=1000.0`\n",
      "Running command `../bin/ex2 ../bin/retraction.conf output='../data/retraction,nsteps=1000.0.out' nsteps=1000.0`\n",
      "Running command `../bin/ex2 ../bin/retraction.conf output='../data/retraction,nsteps=1000.0.out' nsteps=1000.0`\n",
      "Running command `../bin/ex2 ../bin/retraction.conf output='../data/retraction,nsteps=1000.0.out' nsteps=1000.0`\n",
      "Running command `../bin/ex2 ../bin/retraction.conf output='../data/retraction,nsteps=1000.0.out' nsteps=1000.0`\n",
      "Running command `../bin/ex2 ../bin/retraction.conf output='../data/retraction,nsteps=1000.0.out' nsteps=1000.0`\n",
      "Running command `../bin/ex2 ../bin/retraction.conf output='../data/retraction,nsteps=1000.0.out' nsteps=1000.0`\n",
      "Running command `../bin/ex2 ../bin/retraction.conf output='../data/retraction,nsteps=1000.0.out' nsteps=1000.0`\n",
      "Running command `../bin/ex2 ../bin/retraction.conf output='../data/retraction,nsteps=1000.0.out' nsteps=1000.0`\n",
      "Running command `../bin/ex2 ../bin/retraction.conf output='../data/retraction,nsteps=1000.0.out' nsteps=1000.0`\n",
      "Running command `../bin/ex2 ../bin/retraction.conf output='../data/retraction,nsteps=1000.0.out' nsteps=1000.0`\n",
      "Running command `../bin/ex2 ../bin/retraction.conf output='../data/retraction,nsteps=1000.0.out' nsteps=1000.0`\n",
      "Running command `../bin/ex2 ../bin/retraction.conf output='../data/retraction,nsteps=1000.0.out' nsteps=1000.0`\n",
      "Running command `../bin/ex2 ../bin/retraction.conf output='../data/retraction,nsteps=1000.0.out' nsteps=1000.0`\n",
      "Running command `../bin/ex2 ../bin/retraction.conf output='../data/retraction,nsteps=1000.0.out' nsteps=1000.0`\n",
      "Running command `../bin/ex2 ../bin/retraction.conf output='../data/retraction,nsteps=1000.0.out' nsteps=1000.0`\n",
      "Running command `../bin/ex2 ../bin/retraction.conf output='../data/retraction,nsteps=1000.0.out' nsteps=1000.0`\n",
      "Running command `../bin/ex2 ../bin/retraction.conf output='../data/retraction,nsteps=1000.0.out' nsteps=1000.0`\n",
      "Running command `../bin/ex2 ../bin/retraction.conf output='../data/retraction,nsteps=1000.0.out' nsteps=1000.0`\n",
      "Running command `../bin/ex2 ../bin/retraction.conf output='../data/retraction,nsteps=1000.0.out' nsteps=1000.0`\n",
      "Running command `../bin/ex2 ../bin/retraction.conf output='../data/retraction,nsteps=1000.0.out' nsteps=1000.0`\n",
      "Running command `../bin/ex2 ../bin/retraction.conf output='../data/retraction,nsteps=1000.0.out' nsteps=1000.0`\n",
      "Running command `../bin/ex2 ../bin/retraction.conf output='../data/retraction,nsteps=1000.0.out' nsteps=1000.0`\n",
      "Running command `../bin/ex2 ../bin/retraction.conf output='../data/retraction,nsteps=1000.0.out' nsteps=1000.0`\n",
      "Running command `../bin/ex2 ../bin/retraction.conf output='../data/retraction,nsteps=1000.0.out' nsteps=1000.0`\n",
      "Running command `../bin/ex2 ../bin/retraction.conf output='../data/retraction,nsteps=1000.0.out' nsteps=1000.0`\n",
      "Running command `../bin/ex2 ../bin/retraction.conf output='../data/retraction,nsteps=1000.0.out' nsteps=1000.0`\n",
      "Running command `../bin/ex2 ../bin/retraction.conf output='../data/retraction,nsteps=1000.0.out' nsteps=1000.0`\n",
      "Running command `../bin/ex2 ../bin/retraction.conf output='../data/retraction,nsteps=1000.0.out' nsteps=1000.0`\n",
      "Running command `../bin/ex2 ../bin/retraction.conf output='../data/retraction,nsteps=1000.0.out' nsteps=1000.0`\n",
      "Running command `../bin/ex2 ../bin/retraction.conf output='../data/retraction,nsteps=1000.0.out' nsteps=1000.0`\n",
      "Running command `../bin/ex2 ../bin/retraction.conf output='../data/retraction,nsteps=1000.0.out' nsteps=1000.0`\n",
      "Running command `../bin/ex2 ../bin/retraction.conf output='../data/retraction,nsteps=1000.0.out' nsteps=1000.0`\n",
      "Running command `../bin/ex2 ../bin/retraction.conf output='../data/retraction,nsteps=1000.0.out' nsteps=1000.0`\n",
      "Running command `../bin/ex2 ../bin/retraction.conf output='../data/retraction,nsteps=1000.0.out' nsteps=1000.0`\n",
      "Running command `../bin/ex2 ../bin/retraction.conf output='../data/retraction,nsteps=1000.0.out' nsteps=1000.0`\n",
      "Running command `../bin/ex2 ../bin/retraction.conf output='../data/retraction,nsteps=1000.0.out' nsteps=1000.0`\n",
      "Running command `../bin/ex2 ../bin/retraction.conf output='../data/retraction,nsteps=1000.0.out' nsteps=1000.0`\n",
      "Running command `../bin/ex2 ../bin/retraction.conf output='../data/retraction,nsteps=1000.0.out' nsteps=1000.0`\n",
      "Running command `../bin/ex2 ../bin/retraction.conf output='../data/retraction,nsteps=1000.0.out' nsteps=1000.0`\n",
      "Running command `../bin/ex2 ../bin/retraction.conf output='../data/retraction,nsteps=1000.0.out' nsteps=1000.0`\n",
      "Running command `../bin/ex2 ../bin/retraction.conf output='../data/retraction,nsteps=1000.0.out' nsteps=1000.0`\n",
      "Running command `../bin/ex2 ../bin/retraction.conf output='../data/retraction,nsteps=1000.0.out' nsteps=1000.0`\n",
      "Running command `../bin/ex2 ../bin/retraction.conf output='../data/retraction,nsteps=1000.0.out' nsteps=1000.0`\n",
      "Running command `../bin/ex2 ../bin/retraction.conf output='../data/retraction,nsteps=1000.0.out' nsteps=1000.0`\n",
      "Running command `../bin/ex2 ../bin/retraction.conf output='../data/retraction,nsteps=1000.0.out' nsteps=1000.0`\n",
      "Running command `../bin/ex2 ../bin/retraction.conf output='../data/retraction,nsteps=1000.0.out' nsteps=1000.0`\n",
      "Running command `../bin/ex2 ../bin/retraction.conf output='../data/retraction,nsteps=1000.0.out' nsteps=1000.0`\n",
      "Running command `../bin/ex2 ../bin/retraction.conf output='../data/retraction,nsteps=1000.0.out' nsteps=1000.0`\n",
      "Running command `../bin/ex2 ../bin/retraction.conf output='../data/retraction,nsteps=1000.0.out' nsteps=1000.0`\n",
      "Running command `../bin/ex2 ../bin/retraction.conf output='../data/retraction,nsteps=1000.0.out' nsteps=1000.0`\n",
      "Running command `../bin/ex2 ../bin/retraction.conf output='../data/retraction,nsteps=1000.0.out' nsteps=1000.0`\n",
      "Running command `../bin/ex2 ../bin/retraction.conf output='../data/retraction,nsteps=1000.0.out' nsteps=1000.0`\n",
      "Running command `../bin/ex2 ../bin/retraction.conf output='../data/retraction,nsteps=1000.0.out' nsteps=1000.0`\n",
      "Running command `../bin/ex2 ../bin/retraction.conf output='../data/retraction,nsteps=1000.0.out' nsteps=1000.0`\n",
      "Running command `../bin/ex2 ../bin/retraction.conf output='../data/retraction,nsteps=1000.0.out' nsteps=1000.0`\n"
     ]
    }
   ],
   "source": [
    "params_variations = {\n",
    "    'nsteps': nsteps,\n",
    "}\n",
    "all_params = tuple(\n",
    "    {a: b for a, b in zip(params_variations.keys(), c)} for c in product(*params_variations.values())\n",
    ")\n",
    "\n",
    "# Run simulations\n",
    "outputs = []  # List to store output file names\n",
    "for params in all_params:\n",
    "    output_file = f\"{data_path}{config_name},{stringify_dict(params)}.out\"\n",
    "    outputs.append(output_file)\n",
    "    run(f'{config_path}{config_name}{config_ext}', output_file, params)"
   ]
  },
  {
   "cell_type": "code",
   "execution_count": 8,
   "metadata": {},
   "outputs": [],
   "source": [
    "# Load stuff in memory\n",
    "all_data = {}\n",
    "\n",
    "for file, params in zip(outputs, all_params):\n",
    "    data = np.loadtxt(path + file)\n",
    "    all_data[file] = (params, np.copy(data))"
   ]
  },
  {
   "cell_type": "markdown",
   "metadata": {},
   "source": [
    "# Plots!"
   ]
  },
  {
   "cell_type": "code",
   "execution_count": 9,
   "metadata": {},
   "outputs": [
    {
     "data": {
      "image/png": "[encoded data removed]",
      "text/plain": [
       "<Figure size 400x350 with 1 Axes>"
      ]
     },
     "metadata": {},
     "output_type": "display_data"
    }
   ],
   "source": [
    "for (params, data) in all_data.values():\n",
    "    if params['nsteps'] < 1000:\n",
    "        continue\n",
    "    t, theta, thetadot = data[:,0], data[:,1], data[:,2]\n",
    "    # p = m L^2 thetadot\n",
    "    plt.plot(theta, thetadot)\n",
    "\n",
    "# plt.axis('equal')\n",
    "plt.xlabel(r'$\\theta$ [rad]')\n",
    "plt.ylabel(r'$\\dot{\\theta}$ [rad/s]')\n",
    "plt.grid()\n",
    "# plt.legend()\n",
    "plt.savefig(export_path + 'feuriste.pdf')"
   ]
  },
  {
   "cell_type": "code",
   "execution_count": 10,
   "metadata": {},
   "outputs": [
    {
     "data": {
      "image/png": "[encoded data removed]",
      "text/plain": [
       "<Figure size 400x350 with 1 Axes>"
      ]
     },
     "metadata": {},
     "output_type": "display_data"
    }
   ],
   "source": [
    "%matplotlib inline\n",
    "plt.close()\n",
    "for (params, data) in all_data.values():\n",
    "    if params['nsteps'] != 2000:\n",
    "        continue\n",
    "    t, theta, l = data[:,0], data[:,1], data[:,5]\n",
    "    plt.plot(t[:-200], theta[:-200]*180/np.pi)\n",
    "\n",
    "# plt.axis('equal')\n",
    "plt.xlabel(r'$t$ [s]')\n",
    "plt.ylabel(r'$\\theta$ [rad]')\n",
    "plt.grid()\n",
    "plt.show()\n",
    "# plt.legend()\n",
    "# plt.savefig(export_path + 'feuriste.pdf')"
   ]
  },
  {
   "cell_type": "code",
   "execution_count": 13,
   "metadata": {},
   "outputs": [
    {
     "name": "stdout",
     "output_type": "stream",
     "text": [
      "{'data/retraction,nsteps=1000.0.out': ({'nsteps': 1000.0}, array([[ 0.00000000e+00,  5.00000000e-01,  0.00000000e+00,\n",
      "         1.72181699e-01,  1.72181699e-02,  2.00000000e-01],\n",
      "       [ 9.60000000e-03,  4.98916391e-01, -2.48103128e-01,\n",
      "         1.72241007e-01,  1.59984312e-02,  1.99808000e-01],\n",
      "       [ 1.92000000e-02,  4.95449814e-01, -4.96003822e-01,\n",
      "         1.72766665e-01,  1.23498433e-02,  1.99616000e-01],\n",
      "       ...,\n",
      "       [ 9.58080000e+00,  4.08678894e+03,  4.41040480e+04,\n",
      "         6.83642372e+03, -1.63082808e+06,  8.38400000e-03],\n",
      "       [ 9.59040000e+00,  4.51986182e+03,  5.09251886e+04,\n",
      "         8.70191690e+03, -2.12449268e+06,  8.19200000e-03],\n",
      "       [ 9.60000000e+00,  5.02015892e+03,  5.91145646e+04,\n",
      "         1.11825094e+04, -2.79562537e+06,  8.00000000e-03]]))}\n",
      "(100,) 1\n"
     ]
    },
    {
     "ename": "ValueError",
     "evalue": "x and y must have same first dimension, but have shapes (100,) and (1,)",
     "output_type": "error",
     "traceback": [
      "\u001b[0;31m---------------------------------------------------------------------------\u001b[0m",
      "\u001b[0;31mValueError\u001b[0m                                Traceback (most recent call last)",
      "Cell \u001b[0;32mIn[13], line 18\u001b[0m\n\u001b[1;32m     16\u001b[0m stuff \u001b[38;5;241m=\u001b[39m calc(all_data)\n\u001b[1;32m     17\u001b[0m \u001b[38;5;28mprint\u001b[39m(dt\u001b[38;5;241m.\u001b[39mshape, \u001b[38;5;28mlen\u001b[39m(stuff))\n\u001b[0;32m---> 18\u001b[0m \u001b[43mplt\u001b[49m\u001b[38;5;241;43m.\u001b[39;49m\u001b[43mplot\u001b[49m\u001b[43m(\u001b[49m\u001b[43mdt\u001b[49m\u001b[38;5;241;43m*\u001b[39;49m\u001b[38;5;241;43m*\u001b[39;49m\u001b[43mnorder\u001b[49m\u001b[43m,\u001b[49m\u001b[43m \u001b[49m\u001b[43mstuff\u001b[49m\u001b[43m,\u001b[49m\u001b[43m \u001b[49m\u001b[38;5;124;43m'\u001b[39;49m\u001b[38;5;124;43m+-\u001b[39;49m\u001b[38;5;124;43m'\u001b[39;49m\u001b[43m,\u001b[49m\u001b[43m \u001b[49m\u001b[43mlabel\u001b[49m\u001b[38;5;241;43m=\u001b[39;49m\u001b[38;5;124;43m'\u001b[39;49m\u001b[38;5;124;43m$x$\u001b[39;49m\u001b[38;5;124;43m'\u001b[39;49m\u001b[43m)\u001b[49m\n\u001b[1;32m     19\u001b[0m plt\u001b[38;5;241m.\u001b[39mxlabel(\u001b[38;5;124mr\u001b[39m\u001b[38;5;124m'\u001b[39m\u001b[38;5;124m$(\u001b[39m\u001b[38;5;124m\\\u001b[39m\u001b[38;5;124mDelta t)^2$ [s]\u001b[39m\u001b[38;5;124m'\u001b[39m)\n\u001b[1;32m     20\u001b[0m plt\u001b[38;5;241m.\u001b[39mylabel(\u001b[38;5;124mr\u001b[39m\u001b[38;5;124m'\u001b[39m\u001b[38;5;124m$\u001b[39m\u001b[38;5;124m\\\u001b[39m\u001b[38;5;124mtheta$ [rad]\u001b[39m\u001b[38;5;124m'\u001b[39m)\n",
      "File \u001b[0;32m~/Documents/EPFL/BA4/PhysNum/.venv/lib64/python3.12/site-packages/matplotlib/pyplot.py:3590\u001b[0m, in \u001b[0;36mplot\u001b[0;34m(scalex, scaley, data, *args, **kwargs)\u001b[0m\n\u001b[1;32m   3582\u001b[0m \u001b[38;5;129m@_copy_docstring_and_deprecators\u001b[39m(Axes\u001b[38;5;241m.\u001b[39mplot)\n\u001b[1;32m   3583\u001b[0m \u001b[38;5;28;01mdef\u001b[39;00m \u001b[38;5;21mplot\u001b[39m(\n\u001b[1;32m   3584\u001b[0m     \u001b[38;5;241m*\u001b[39margs: \u001b[38;5;28mfloat\u001b[39m \u001b[38;5;241m|\u001b[39m ArrayLike \u001b[38;5;241m|\u001b[39m \u001b[38;5;28mstr\u001b[39m,\n\u001b[0;32m   (...)\u001b[0m\n\u001b[1;32m   3588\u001b[0m     \u001b[38;5;241m*\u001b[39m\u001b[38;5;241m*\u001b[39mkwargs,\n\u001b[1;32m   3589\u001b[0m ) \u001b[38;5;241m-\u001b[39m\u001b[38;5;241m>\u001b[39m \u001b[38;5;28mlist\u001b[39m[Line2D]:\n\u001b[0;32m-> 3590\u001b[0m     \u001b[38;5;28;01mreturn\u001b[39;00m \u001b[43mgca\u001b[49m\u001b[43m(\u001b[49m\u001b[43m)\u001b[49m\u001b[38;5;241;43m.\u001b[39;49m\u001b[43mplot\u001b[49m\u001b[43m(\u001b[49m\n\u001b[1;32m   3591\u001b[0m \u001b[43m        \u001b[49m\u001b[38;5;241;43m*\u001b[39;49m\u001b[43margs\u001b[49m\u001b[43m,\u001b[49m\n\u001b[1;32m   3592\u001b[0m \u001b[43m        \u001b[49m\u001b[43mscalex\u001b[49m\u001b[38;5;241;43m=\u001b[39;49m\u001b[43mscalex\u001b[49m\u001b[43m,\u001b[49m\n\u001b[1;32m   3593\u001b[0m \u001b[43m        \u001b[49m\u001b[43mscaley\u001b[49m\u001b[38;5;241;43m=\u001b[39;49m\u001b[43mscaley\u001b[49m\u001b[43m,\u001b[49m\n\u001b[1;32m   3594\u001b[0m \u001b[43m        \u001b[49m\u001b[38;5;241;43m*\u001b[39;49m\u001b[38;5;241;43m*\u001b[39;49m\u001b[43m(\u001b[49m\u001b[43m{\u001b[49m\u001b[38;5;124;43m\"\u001b[39;49m\u001b[38;5;124;43mdata\u001b[39;49m\u001b[38;5;124;43m\"\u001b[39;49m\u001b[43m:\u001b[49m\u001b[43m \u001b[49m\u001b[43mdata\u001b[49m\u001b[43m}\u001b[49m\u001b[43m \u001b[49m\u001b[38;5;28;43;01mif\u001b[39;49;00m\u001b[43m \u001b[49m\u001b[43mdata\u001b[49m\u001b[43m \u001b[49m\u001b[38;5;129;43;01mis\u001b[39;49;00m\u001b[43m \u001b[49m\u001b[38;5;129;43;01mnot\u001b[39;49;00m\u001b[43m \u001b[49m\u001b[38;5;28;43;01mNone\u001b[39;49;00m\u001b[43m \u001b[49m\u001b[38;5;28;43;01melse\u001b[39;49;00m\u001b[43m \u001b[49m\u001b[43m{\u001b[49m\u001b[43m}\u001b[49m\u001b[43m)\u001b[49m\u001b[43m,\u001b[49m\n\u001b[1;32m   3595\u001b[0m \u001b[43m        \u001b[49m\u001b[38;5;241;43m*\u001b[39;49m\u001b[38;5;241;43m*\u001b[39;49m\u001b[43mkwargs\u001b[49m\u001b[43m,\u001b[49m\n\u001b[1;32m   3596\u001b[0m \u001b[43m    \u001b[49m\u001b[43m)\u001b[49m\n",
      "File \u001b[0;32m~/Documents/EPFL/BA4/PhysNum/.venv/lib64/python3.12/site-packages/matplotlib/axes/_axes.py:1724\u001b[0m, in \u001b[0;36mAxes.plot\u001b[0;34m(self, scalex, scaley, data, *args, **kwargs)\u001b[0m\n\u001b[1;32m   1481\u001b[0m \u001b[38;5;250m\u001b[39m\u001b[38;5;124;03m\"\"\"\u001b[39;00m\n\u001b[1;32m   1482\u001b[0m \u001b[38;5;124;03mPlot y versus x as lines and/or markers.\u001b[39;00m\n\u001b[1;32m   1483\u001b[0m \n\u001b[0;32m   (...)\u001b[0m\n\u001b[1;32m   1721\u001b[0m \u001b[38;5;124;03m(``'green'``) or hex strings (``'#008000'``).\u001b[39;00m\n\u001b[1;32m   1722\u001b[0m \u001b[38;5;124;03m\"\"\"\u001b[39;00m\n\u001b[1;32m   1723\u001b[0m kwargs \u001b[38;5;241m=\u001b[39m cbook\u001b[38;5;241m.\u001b[39mnormalize_kwargs(kwargs, mlines\u001b[38;5;241m.\u001b[39mLine2D)\n\u001b[0;32m-> 1724\u001b[0m lines \u001b[38;5;241m=\u001b[39m [\u001b[38;5;241m*\u001b[39m\u001b[38;5;28mself\u001b[39m\u001b[38;5;241m.\u001b[39m_get_lines(\u001b[38;5;28mself\u001b[39m, \u001b[38;5;241m*\u001b[39margs, data\u001b[38;5;241m=\u001b[39mdata, \u001b[38;5;241m*\u001b[39m\u001b[38;5;241m*\u001b[39mkwargs)]\n\u001b[1;32m   1725\u001b[0m \u001b[38;5;28;01mfor\u001b[39;00m line \u001b[38;5;129;01min\u001b[39;00m lines:\n\u001b[1;32m   1726\u001b[0m     \u001b[38;5;28mself\u001b[39m\u001b[38;5;241m.\u001b[39madd_line(line)\n",
      "File \u001b[0;32m~/Documents/EPFL/BA4/PhysNum/.venv/lib64/python3.12/site-packages/matplotlib/axes/_base.py:303\u001b[0m, in \u001b[0;36m_process_plot_var_args.__call__\u001b[0;34m(self, axes, data, *args, **kwargs)\u001b[0m\n\u001b[1;32m    301\u001b[0m     this \u001b[38;5;241m+\u001b[39m\u001b[38;5;241m=\u001b[39m args[\u001b[38;5;241m0\u001b[39m],\n\u001b[1;32m    302\u001b[0m     args \u001b[38;5;241m=\u001b[39m args[\u001b[38;5;241m1\u001b[39m:]\n\u001b[0;32m--> 303\u001b[0m \u001b[38;5;28;01myield from\u001b[39;00m \u001b[38;5;28;43mself\u001b[39;49m\u001b[38;5;241;43m.\u001b[39;49m\u001b[43m_plot_args\u001b[49m\u001b[43m(\u001b[49m\n\u001b[1;32m    304\u001b[0m \u001b[43m    \u001b[49m\u001b[43maxes\u001b[49m\u001b[43m,\u001b[49m\u001b[43m \u001b[49m\u001b[43mthis\u001b[49m\u001b[43m,\u001b[49m\u001b[43m \u001b[49m\u001b[43mkwargs\u001b[49m\u001b[43m,\u001b[49m\u001b[43m \u001b[49m\u001b[43mambiguous_fmt_datakey\u001b[49m\u001b[38;5;241;43m=\u001b[39;49m\u001b[43mambiguous_fmt_datakey\u001b[49m\u001b[43m)\u001b[49m\n",
      "File \u001b[0;32m~/Documents/EPFL/BA4/PhysNum/.venv/lib64/python3.12/site-packages/matplotlib/axes/_base.py:499\u001b[0m, in \u001b[0;36m_process_plot_var_args._plot_args\u001b[0;34m(self, axes, tup, kwargs, return_kwargs, ambiguous_fmt_datakey)\u001b[0m\n\u001b[1;32m    496\u001b[0m     axes\u001b[38;5;241m.\u001b[39myaxis\u001b[38;5;241m.\u001b[39mupdate_units(y)\n\u001b[1;32m    498\u001b[0m \u001b[38;5;28;01mif\u001b[39;00m x\u001b[38;5;241m.\u001b[39mshape[\u001b[38;5;241m0\u001b[39m] \u001b[38;5;241m!=\u001b[39m y\u001b[38;5;241m.\u001b[39mshape[\u001b[38;5;241m0\u001b[39m]:\n\u001b[0;32m--> 499\u001b[0m     \u001b[38;5;28;01mraise\u001b[39;00m \u001b[38;5;167;01mValueError\u001b[39;00m(\u001b[38;5;124mf\u001b[39m\u001b[38;5;124m\"\u001b[39m\u001b[38;5;124mx and y must have same first dimension, but \u001b[39m\u001b[38;5;124m\"\u001b[39m\n\u001b[1;32m    500\u001b[0m                      \u001b[38;5;124mf\u001b[39m\u001b[38;5;124m\"\u001b[39m\u001b[38;5;124mhave shapes \u001b[39m\u001b[38;5;132;01m{\u001b[39;00mx\u001b[38;5;241m.\u001b[39mshape\u001b[38;5;132;01m}\u001b[39;00m\u001b[38;5;124m and \u001b[39m\u001b[38;5;132;01m{\u001b[39;00my\u001b[38;5;241m.\u001b[39mshape\u001b[38;5;132;01m}\u001b[39;00m\u001b[38;5;124m\"\u001b[39m)\n\u001b[1;32m    501\u001b[0m \u001b[38;5;28;01mif\u001b[39;00m x\u001b[38;5;241m.\u001b[39mndim \u001b[38;5;241m>\u001b[39m \u001b[38;5;241m2\u001b[39m \u001b[38;5;129;01mor\u001b[39;00m y\u001b[38;5;241m.\u001b[39mndim \u001b[38;5;241m>\u001b[39m \u001b[38;5;241m2\u001b[39m:\n\u001b[1;32m    502\u001b[0m     \u001b[38;5;28;01mraise\u001b[39;00m \u001b[38;5;167;01mValueError\u001b[39;00m(\u001b[38;5;124mf\u001b[39m\u001b[38;5;124m\"\u001b[39m\u001b[38;5;124mx and y can be no greater than 2D, but have \u001b[39m\u001b[38;5;124m\"\u001b[39m\n\u001b[1;32m    503\u001b[0m                      \u001b[38;5;124mf\u001b[39m\u001b[38;5;124m\"\u001b[39m\u001b[38;5;124mshapes \u001b[39m\u001b[38;5;132;01m{\u001b[39;00mx\u001b[38;5;241m.\u001b[39mshape\u001b[38;5;132;01m}\u001b[39;00m\u001b[38;5;124m and \u001b[39m\u001b[38;5;132;01m{\u001b[39;00my\u001b[38;5;241m.\u001b[39mshape\u001b[38;5;132;01m}\u001b[39;00m\u001b[38;5;124m\"\u001b[39m)\n",
      "\u001b[0;31mValueError\u001b[0m: x and y must have same first dimension, but have shapes (100,) and (1,)"
     ]
    },
    {
     "data": {
      "image/png": "[encoded data removed]",
      "text/plain": [
       "<Figure size 400x350 with 1 Axes>"
      ]
     },
     "metadata": {},
     "output_type": "display_data"
    }
   ],
   "source": [
    "\"\"\"\n",
    "Si on n'a pas la solution analytique: on représente la quantite voulue\n",
    "(ci-dessous v_y, TODO: modifier selon vos besoins)\n",
    "en fonction de (Delta t)^norder, ou norder est un entier.\n",
    "\"\"\"\n",
    "def calc(dataset):\n",
    "    stuffies = []\n",
    "    print(dataset)\n",
    "    for i, (params, data) in enumerate(dataset.values()):\n",
    "        data = np.loadtxt(path + file)\n",
    "        t, theta = data[:, 0], data[:, 1]\n",
    "        stuffies.append(theta[-1])\n",
    "    return stuffies\n",
    "\n",
    "norder = 3  # TODO: Modify if needed\n",
    "stuff = calc(all_data)\n",
    "print(dt.shape, len(stuff))\n",
    "plt.plot(dt**norder, stuff, '+-', label='$x$')\n",
    "plt.xlabel(r'$(\\Delta t)^2$ [s]')\n",
    "plt.ylabel(r'$\\theta$ [rad]')\n",
    "plt.grid()"
   ]
  }
 ],
 "metadata": {
  "kernelspec": {
   "display_name": ".venv",
   "language": "python",
   "name": "python3"
  },
  "language_info": {
   "codemirror_mode": {
    "name": "ipython",
    "version": 3
   },
   "file_extension": ".py",
   "mimetype": "text/x-python",
   "name": "python",
   "nbconvert_exporter": "python",
   "pygments_lexer": "ipython3",
   "version": "3.12.2"
  }
 },
 "nbformat": 4,
 "nbformat_minor": 2
}
