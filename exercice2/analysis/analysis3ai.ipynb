{
 "cells": [
  {
   "cell_type": "code",
   "execution_count": 2,
   "metadata": {},
   "outputs": [],
   "source": [
    "# %matplotlib inline\n",
    "import numpy as np\n",
    "import matplotlib.pyplot as plt\n",
    "import matplotlib as mpl\n",
    "import subprocess\n",
    "import scipy as sc\n",
    "from itertools import product\n",
    "\n",
    "mpl.rcParams.update({\n",
    "    \"text.usetex\": True,\n",
    "    \"font.family\": \"serif\",\n",
    "    \"axes.labelsize\": 12,\n",
    "    \"font.size\": 12,\n",
    "    \"legend.fontsize\": 10,\n",
    "    \"xtick.labelsize\": 12,\n",
    "    \"ytick.labelsize\": 12,\n",
    "    \"figure.figsize\": (4, 3.5),\n",
    "    \"text.latex.preamble\": \"\\n\".join([\n",
    "        r\"\\usepackage[utf8]{inputenc}\",\n",
    "        r\"\\usepackage[T1]{fontenc}\",\n",
    "        r\"\\usepackage[detect-all,locale=FR]{siunitx}\",\n",
    "    ]),\n",
    "    'lines.markersize': 10,\n",
    "    'lines.color': 'grey',\n",
    "    'scatter.marker': '+',\n",
    "    'errorbar.capsize': 3,\n",
    "    'savefig.bbox': 'tight',\n",
    "})"
   ]
  },
  {
   "cell_type": "code",
   "execution_count": 3,
   "metadata": {},
   "outputs": [],
   "source": [
    "path = '../'\n",
    "executable = 'bin/ex2'\n",
    "export_path = path + 'rapport/figures/'\n",
    "data_path = 'data/'\n",
    "config_path = 'bin/'\n",
    "config_name = 'no_excitation'\n",
    "config_ext = '.conf'"
   ]
  },
  {
   "cell_type": "code",
   "execution_count": 4,
   "metadata": {},
   "outputs": [],
   "source": [
    "def stringify_dict(d: dict, sep=',') -> str:\n",
    "    return sep.join(map(lambda a: str(a[0]) + \"=\" + str(a[1]), tuple(d.items())))"
   ]
  },
  {
   "cell_type": "code",
   "execution_count": 5,
   "metadata": {},
   "outputs": [],
   "source": [
    "def run(config_file: str, output_file: str, params: dict = {}) -> None:\n",
    "    # print(f\"Running with config file {config_file}\")\n",
    "    options = stringify_dict(params, sep=' ')\n",
    "    cmd = f\"{path}{executable} {path}{config_file} output='{path}{output_file}' {options}\"\n",
    "    print(f\"Running command `{cmd}`\")\n",
    "    subprocess.run(cmd, shell=True, stdout=subprocess.DEVNULL)\n",
    "    # print(\"Done\")"
   ]
  },
  {
   "cell_type": "code",
   "execution_count": 6,
   "metadata": {},
   "outputs": [
    {
     "data": {
      "text/plain": [
       "2.691420879279824"
      ]
     },
     "execution_count": 6,
     "metadata": {},
     "output_type": "execute_result"
    }
   ],
   "source": [
    "nsteps = np.array([*range(200, 2001, 100)])\n",
    "nsimul = len(nsteps)  # Number of simulations to perform\n",
    "\n",
    "conf = {}\n",
    "with open(path + config_path + config_name + config_ext, 'r') as f:\n",
    "    lines = f.read().split('\\n')\n",
    "\n",
    "for line in lines:\n",
    "    if not line:\n",
    "        continue\n",
    "    name, _, val, *_ = line.split(' ')\n",
    "    name = name.strip()\n",
    "    val = val.strip()\n",
    "    try:\n",
    "        conf[name] = float(val)\n",
    "    except ValueError:\n",
    "        conf[name] = val\n",
    "\n",
    "# 3 periodes\n",
    "omega0 = np.sqrt(conf['g']/conf['L'])\n",
    "tFin = 6 * np.pi / omega0\n",
    "dt = tFin / (3 * nsteps)\n",
    "assert conf['tFin'] == tFin\n",
    "tFin"
   ]
  },
  {
   "cell_type": "code",
   "execution_count": 7,
   "metadata": {},
   "outputs": [],
   "source": [
    "def analytical_theta(t: float) -> float:\n",
    "    return conf['theta0'] * np.cos(omega0 * t)"
   ]
  },
  {
   "cell_type": "code",
   "execution_count": 8,
   "metadata": {},
   "outputs": [],
   "source": [
    "def analytical_thetadot(t: float) -> float:\n",
    "    return -omega0 * conf['theta0'] * np.sin(omega0 * t)"
   ]
  },
  {
   "cell_type": "code",
   "execution_count": 9,
   "metadata": {},
   "outputs": [
    {
     "name": "stdout",
     "output_type": "stream",
     "text": [
      "clang++ -o bin/ex2 src/Ex2_2024_student.cpp -std=c++17 -Wall -Wextra -O2 \n"
     ]
    }
   ],
   "source": [
    "%%bash\n",
    "cd .. && make clean && make"
   ]
  },
  {
   "cell_type": "code",
   "execution_count": 10,
   "metadata": {},
   "outputs": [
    {
     "name": "stdout",
     "output_type": "stream",
     "text": [
      "Running command `../bin/ex2 ../bin/no_excitation.conf output='../data/no_excitation,nsteps=200.out' nsteps=200`\n",
      "Running command `../bin/ex2 ../bin/no_excitation.conf output='../data/no_excitation,nsteps=300.out' nsteps=300`\n",
      "Running command `../bin/ex2 ../bin/no_excitation.conf output='../data/no_excitation,nsteps=400.out' nsteps=400`\n",
      "Running command `../bin/ex2 ../bin/no_excitation.conf output='../data/no_excitation,nsteps=500.out' nsteps=500`\n",
      "Running command `../bin/ex2 ../bin/no_excitation.conf output='../data/no_excitation,nsteps=600.out' nsteps=600`\n",
      "Running command `../bin/ex2 ../bin/no_excitation.conf output='../data/no_excitation,nsteps=700.out' nsteps=700`\n",
      "Running command `../bin/ex2 ../bin/no_excitation.conf output='../data/no_excitation,nsteps=800.out' nsteps=800`\n",
      "Running command `../bin/ex2 ../bin/no_excitation.conf output='../data/no_excitation,nsteps=900.out' nsteps=900`\n",
      "Running command `../bin/ex2 ../bin/no_excitation.conf output='../data/no_excitation,nsteps=1000.out' nsteps=1000`\n",
      "Running command `../bin/ex2 ../bin/no_excitation.conf output='../data/no_excitation,nsteps=1100.out' nsteps=1100`\n",
      "Running command `../bin/ex2 ../bin/no_excitation.conf output='../data/no_excitation,nsteps=1200.out' nsteps=1200`\n",
      "Running command `../bin/ex2 ../bin/no_excitation.conf output='../data/no_excitation,nsteps=1300.out' nsteps=1300`\n",
      "Running command `../bin/ex2 ../bin/no_excitation.conf output='../data/no_excitation,nsteps=1400.out' nsteps=1400`\n",
      "Running command `../bin/ex2 ../bin/no_excitation.conf output='../data/no_excitation,nsteps=1500.out' nsteps=1500`\n",
      "Running command `../bin/ex2 ../bin/no_excitation.conf output='../data/no_excitation,nsteps=1600.out' nsteps=1600`\n",
      "Running command `../bin/ex2 ../bin/no_excitation.conf output='../data/no_excitation,nsteps=1700.out' nsteps=1700`\n",
      "Running command `../bin/ex2 ../bin/no_excitation.conf output='../data/no_excitation,nsteps=1800.out' nsteps=1800`\n",
      "Running command `../bin/ex2 ../bin/no_excitation.conf output='../data/no_excitation,nsteps=1900.out' nsteps=1900`\n",
      "Running command `../bin/ex2 ../bin/no_excitation.conf output='../data/no_excitation,nsteps=2000.out' nsteps=2000`\n"
     ]
    }
   ],
   "source": [
    "params_variations = {\n",
    "    'nsteps': nsteps,\n",
    "}\n",
    "all_params = tuple(\n",
    "    {a: b for a, b in zip(params_variations.keys(), c)} for c in product(*params_variations.values())\n",
    ")\n",
    "\n",
    "# Run simulations\n",
    "outputs = []  # List to store output file names\n",
    "for params in all_params:\n",
    "    output_file = f\"{data_path}{config_name},{stringify_dict(params)}.out\"\n",
    "    outputs.append(output_file)\n",
    "    run(f'{config_path}{config_name}{config_ext}', output_file, params)"
   ]
  },
  {
   "cell_type": "code",
   "execution_count": 11,
   "metadata": {},
   "outputs": [
    {
     "data": {
      "text/plain": [
       "[('data/no_excitation,nsteps=200.out', {'nsteps': 200}),\n",
       " ('data/no_excitation,nsteps=300.out', {'nsteps': 300}),\n",
       " ('data/no_excitation,nsteps=400.out', {'nsteps': 400}),\n",
       " ('data/no_excitation,nsteps=500.out', {'nsteps': 500}),\n",
       " ('data/no_excitation,nsteps=600.out', {'nsteps': 600}),\n",
       " ('data/no_excitation,nsteps=700.out', {'nsteps': 700}),\n",
       " ('data/no_excitation,nsteps=800.out', {'nsteps': 800}),\n",
       " ('data/no_excitation,nsteps=900.out', {'nsteps': 900}),\n",
       " ('data/no_excitation,nsteps=1000.out', {'nsteps': 1000}),\n",
       " ('data/no_excitation,nsteps=1100.out', {'nsteps': 1100}),\n",
       " ('data/no_excitation,nsteps=1200.out', {'nsteps': 1200}),\n",
       " ('data/no_excitation,nsteps=1300.out', {'nsteps': 1300}),\n",
       " ('data/no_excitation,nsteps=1400.out', {'nsteps': 1400}),\n",
       " ('data/no_excitation,nsteps=1500.out', {'nsteps': 1500}),\n",
       " ('data/no_excitation,nsteps=1600.out', {'nsteps': 1600}),\n",
       " ('data/no_excitation,nsteps=1700.out', {'nsteps': 1700}),\n",
       " ('data/no_excitation,nsteps=1800.out', {'nsteps': 1800}),\n",
       " ('data/no_excitation,nsteps=1900.out', {'nsteps': 1900}),\n",
       " ('data/no_excitation,nsteps=2000.out', {'nsteps': 2000})]"
      ]
     },
     "execution_count": 11,
     "metadata": {},
     "output_type": "execute_result"
    }
   ],
   "source": [
    "# Filter stuff\n",
    "file_and_params = []\n",
    "\n",
    "for file, params in zip(outputs, all_params):\n",
    "    file_and_params.append((file, params))\n",
    "\n",
    "file_and_params"
   ]
  },
  {
   "cell_type": "markdown",
   "metadata": {},
   "source": [
    "# Plots!"
   ]
  },
  {
   "cell_type": "code",
   "execution_count": 38,
   "metadata": {},
   "outputs": [
    {
     "data": {
      "image/png": "[encoded data removed]",
      "text/plain": [
       "<Figure size 400x350 with 1 Axes>"
      ]
     },
     "metadata": {},
     "output_type": "display_data"
    }
   ],
   "source": [
    "for (file, params) in file_and_params:\n",
    "    data = np.loadtxt(path + file)\n",
    "    t, theta, thetadot = data[:,0], data[:,1], data[:,2]\n",
    "    # p = m L^2 thetadot\n",
    "    plt.plot(theta, thetadot / (conf['m'] * conf['L']**2))\n",
    "\n",
    "# plt.axis('equal')\n",
    "plt.xlabel(r'$\\theta$ [rad]')\n",
    "plt.ylabel(r'$\\dot{\\theta}$ [rad/s]')\n",
    "plt.grid()\n",
    "# plt.legend()"
   ]
  },
  {
   "cell_type": "markdown",
   "metadata": {},
   "source": [
    "## Position error"
   ]
  },
  {
   "cell_type": "code",
   "execution_count": 13,
   "metadata": {},
   "outputs": [],
   "source": [
    "pos_errors = np.zeros(nsimul)\n",
    "speed_errors = np.zeros(nsimul)\n",
    "for i, (file, params) in enumerate(file_and_params):\n",
    "    data = np.loadtxt(path + file)\n",
    "    tf, thetaf, thetadotf = data[-1,0], data[-1,1], data[-1,2]\n",
    "    actual_theta = analytical_theta(tf)\n",
    "    actual_thetadot = analytical_thetadot(tf)\n",
    "    pos_errors[i] = abs(actual_theta - thetaf)\n",
    "    speed_errors[i] = abs(actual_thetadot - thetadotf)"
   ]
  },
  {
   "cell_type": "code",
   "execution_count": 37,
   "metadata": {},
   "outputs": [
    {
     "data": {
      "image/png": "[encoded data removed]",
      "text/plain": [
       "<Figure size 400x350 with 1 Axes>"
      ]
     },
     "metadata": {},
     "output_type": "display_data"
    }
   ],
   "source": [
    "plt.loglog(dt, pos_errors, '.-', label='Pos')\n",
    "\n",
    "plt.xlabel(r'$\\Delta t$ [s]')\n",
    "plt.ylabel(r'Final angle error [rad]')\n",
    "plt.xticks()\n",
    "plt.yticks()\n",
    "plt.grid()\n",
    "# plt.legend()\n",
    "plt.axis('equal')\n",
    "plt.savefig(export_path + 'no_excitation_pos_conv.pdf')"
   ]
  },
  {
   "cell_type": "code",
   "execution_count": 18,
   "metadata": {},
   "outputs": [
    {
     "data": {
      "image/png": "[encoded data removed]",
      "text/plain": [
       "<Figure size 400x350 with 1 Axes>"
      ]
     },
     "metadata": {},
     "output_type": "display_data"
    }
   ],
   "source": [
    "plt.loglog(dt, speed_errors, '.-', label='Speed')\n",
    "# plt.loglog(dt, dt**2)\n",
    "\n",
    "plt.xlabel(r'$\\Delta t$ [s]')\n",
    "plt.ylabel(r'Final angular speed error [rad/s]')\n",
    "plt.xticks()\n",
    "plt.yticks()\n",
    "plt.grid()\n",
    "# plt.legend()\n",
    "plt.axis('equal')\n",
    "plt.savefig(export_path + 'no_excitation_vel_conv.pdf')"
   ]
  }
 ],
 "metadata": {
  "kernelspec": {
   "display_name": ".venv",
   "language": "python",
   "name": "python3"
  },
  "language_info": {
   "codemirror_mode": {
    "name": "ipython",
    "version": 3
   },
   "file_extension": ".py",
   "mimetype": "text/x-python",
   "name": "python",
   "nbconvert_exporter": "python",
   "pygments_lexer": "ipython3",
   "version": "3.12.2"
  }
 },
 "nbformat": 4,
 "nbformat_minor": 2
}
