{
 "cells": [
  {
   "cell_type": "code",
   "execution_count": 2,
   "metadata": {},
   "outputs": [],
   "source": [
    "# %matplotlib inline\n",
    "import numpy as np\n",
    "import matplotlib.pyplot as plt\n",
    "import matplotlib as mpl\n",
    "import subprocess\n",
    "import scipy as sc\n",
    "from itertools import product\n",
    "\n",
    "mpl.rcParams.update({\n",
    "    \"text.usetex\": True,\n",
    "    \"font.family\": \"serif\",\n",
    "    \"axes.labelsize\": 12,\n",
    "    \"font.size\": 12,\n",
    "    \"legend.fontsize\": 10,\n",
    "    \"xtick.labelsize\": 12,\n",
    "    \"ytick.labelsize\": 12,\n",
    "    \"figure.figsize\": (4, 3.5),\n",
    "    \"text.latex.preamble\": \"\\n\".join([\n",
    "        r\"\\usepackage[utf8]{inputenc}\",\n",
    "        r\"\\usepackage[T1]{fontenc}\",\n",
    "        r\"\\usepackage[detect-all,locale=FR]{siunitx}\",\n",
    "    ]),\n",
    "    'lines.markersize': 10,\n",
    "    'lines.color': 'grey',\n",
    "    'scatter.marker': '+',\n",
    "    'errorbar.capsize': 3,\n",
    "    'savefig.bbox': 'tight',\n",
    "})"
   ]
  },
  {
   "cell_type": "code",
   "execution_count": 3,
   "metadata": {},
   "outputs": [],
   "source": [
    "path = '../'\n",
    "executable = 'bin/ex2'\n",
    "export_path = path + 'rapport/figures/'\n",
    "data_path = 'data/'\n",
    "config_path = 'bin/'\n",
    "config_name = 'no_excitation'\n",
    "config_ext = '.conf'"
   ]
  },
  {
   "cell_type": "code",
   "execution_count": 4,
   "metadata": {},
   "outputs": [],
   "source": [
    "def stringify_dict(d: dict, sep=',') -> str:\n",
    "    return sep.join(map(lambda a: str(a[0]) + \"=\" + str(a[1]), tuple(d.items())))"
   ]
  },
  {
   "cell_type": "code",
   "execution_count": 5,
   "metadata": {},
   "outputs": [],
   "source": [
    "def run(config_file: str, output_file: str, params: dict = {}) -> None:\n",
    "    # print(f\"Running with config file {config_file}\")\n",
    "    options = stringify_dict(params, sep=' ')\n",
    "    cmd = f\"{path}{executable} {path}{config_file} output='{path}{output_file}' {options}\"\n",
    "    print(f\"Running command `{cmd}`\")\n",
    "    subprocess.run(cmd, shell=True, stdout=subprocess.DEVNULL)\n",
    "    # print(\"Done\")"
   ]
  },
  {
   "cell_type": "code",
   "execution_count": 8,
   "metadata": {},
   "outputs": [
    {
     "data": {
      "text/plain": [
       "2.691420879279824"
      ]
     },
     "execution_count": 8,
     "metadata": {},
     "output_type": "execute_result"
    }
   ],
   "source": [
    "nsteps = np.array([*range(200, 2001, 100)])\n",
    "nsimul = len(nsteps)  # Number of simulations to perform\n",
    "\n",
    "conf = {}\n",
    "with open(path + config_path + config_name + config_ext, 'r') as f:\n",
    "    lines = f.read().split('\\n')\n",
    "\n",
    "for line in lines:\n",
    "    if not line:\n",
    "        continue\n",
    "    name, _, val, *_ = line.split(' ')\n",
    "    name = name.strip()\n",
    "    val = val.strip()\n",
    "    try:\n",
    "        conf[name] = float(val)\n",
    "    except ValueError:\n",
    "        conf[name] = val\n",
    "\n",
    "# 3 periodes\n",
    "omega0 = np.sqrt(conf['g']/conf['L'])\n",
    "tFin = 6 * np.pi / omega0\n",
    "dt = tFin / (3 * nsteps)\n",
    "assert conf['tFin'] == tFin\n",
    "tFin"
   ]
  },
  {
   "cell_type": "code",
   "execution_count": 9,
   "metadata": {},
   "outputs": [],
   "source": [
    "def analytical_theta(t: float) -> float:\n",
    "    return conf['theta0'] * np.cos(omega0 * t)"
   ]
  },
  {
   "cell_type": "code",
   "execution_count": 10,
   "metadata": {},
   "outputs": [],
   "source": [
    "def analytical_thetadot(t: float) -> float:\n",
    "    return -omega0 * conf['theta0'] * np.sin(omega0 * t)"
   ]
  },
  {
   "cell_type": "code",
   "execution_count": 11,
   "metadata": {},
   "outputs": [
    {
     "name": "stdout",
     "output_type": "stream",
     "text": [
      "clang++ -o bin/ex2 src/Ex2_2024_student.cpp -std=c++17 -Wall -Wextra -O2 \n"
     ]
    }
   ],
   "source": [
    "%%bash\n",
    "cd .. && make clean && make"
   ]
  },
  {
   "cell_type": "code",
   "execution_count": 12,
   "metadata": {},
   "outputs": [
    {
     "name": "stdout",
     "output_type": "stream",
     "text": [
      "Running command `../bin/ex2 ../bin/no_excitation.conf output='../data/no_excitation,nsteps=200.out' nsteps=200`\n",
      "Running command `../bin/ex2 ../bin/no_excitation.conf output='../data/no_excitation,nsteps=300.out' nsteps=300`\n",
      "Running command `../bin/ex2 ../bin/no_excitation.conf output='../data/no_excitation,nsteps=400.out' nsteps=400`\n",
      "Running command `../bin/ex2 ../bin/no_excitation.conf output='../data/no_excitation,nsteps=500.out' nsteps=500`\n",
      "Running command `../bin/ex2 ../bin/no_excitation.conf output='../data/no_excitation,nsteps=600.out' nsteps=600`\n",
      "Running command `../bin/ex2 ../bin/no_excitation.conf output='../data/no_excitation,nsteps=700.out' nsteps=700`\n",
      "Running command `../bin/ex2 ../bin/no_excitation.conf output='../data/no_excitation,nsteps=800.out' nsteps=800`\n",
      "Running command `../bin/ex2 ../bin/no_excitation.conf output='../data/no_excitation,nsteps=900.out' nsteps=900`\n",
      "Running command `../bin/ex2 ../bin/no_excitation.conf output='../data/no_excitation,nsteps=1000.out' nsteps=1000`\n",
      "Running command `../bin/ex2 ../bin/no_excitation.conf output='../data/no_excitation,nsteps=1100.out' nsteps=1100`\n",
      "Running command `../bin/ex2 ../bin/no_excitation.conf output='../data/no_excitation,nsteps=1200.out' nsteps=1200`\n",
      "Running command `../bin/ex2 ../bin/no_excitation.conf output='../data/no_excitation,nsteps=1300.out' nsteps=1300`\n",
      "Running command `../bin/ex2 ../bin/no_excitation.conf output='../data/no_excitation,nsteps=1400.out' nsteps=1400`\n",
      "Running command `../bin/ex2 ../bin/no_excitation.conf output='../data/no_excitation,nsteps=1500.out' nsteps=1500`\n",
      "Running command `../bin/ex2 ../bin/no_excitation.conf output='../data/no_excitation,nsteps=1600.out' nsteps=1600`\n",
      "Running command `../bin/ex2 ../bin/no_excitation.conf output='../data/no_excitation,nsteps=1700.out' nsteps=1700`\n",
      "Running command `../bin/ex2 ../bin/no_excitation.conf output='../data/no_excitation,nsteps=1800.out' nsteps=1800`\n",
      "Running command `../bin/ex2 ../bin/no_excitation.conf output='../data/no_excitation,nsteps=1900.out' nsteps=1900`\n",
      "Running command `../bin/ex2 ../bin/no_excitation.conf output='../data/no_excitation,nsteps=2000.out' nsteps=2000`\n"
     ]
    }
   ],
   "source": [
    "params_variations = {\n",
    "    'nsteps': nsteps,\n",
    "}\n",
    "all_params = tuple(\n",
    "    {a: b for a, b in zip(params_variations.keys(), c)} for c in product(*params_variations.values())\n",
    ")\n",
    "\n",
    "# Run simulations\n",
    "outputs = []  # List to store output file names\n",
    "for params in all_params:\n",
    "    output_file = f\"{data_path}{config_name},{stringify_dict(params)}.out\"\n",
    "    outputs.append(output_file)\n",
    "    run(f'{config_path}{config_name}{config_ext}', output_file, params)"
   ]
  },
  {
   "cell_type": "code",
   "execution_count": 13,
   "metadata": {},
   "outputs": [
    {
     "data": {
      "text/plain": [
       "[('data/no_excitation,nsteps=200.out', {'nsteps': 200}),\n",
       " ('data/no_excitation,nsteps=300.out', {'nsteps': 300}),\n",
       " ('data/no_excitation,nsteps=400.out', {'nsteps': 400}),\n",
       " ('data/no_excitation,nsteps=500.out', {'nsteps': 500}),\n",
       " ('data/no_excitation,nsteps=600.out', {'nsteps': 600}),\n",
       " ('data/no_excitation,nsteps=700.out', {'nsteps': 700}),\n",
       " ('data/no_excitation,nsteps=800.out', {'nsteps': 800}),\n",
       " ('data/no_excitation,nsteps=900.out', {'nsteps': 900}),\n",
       " ('data/no_excitation,nsteps=1000.out', {'nsteps': 1000}),\n",
       " ('data/no_excitation,nsteps=1100.out', {'nsteps': 1100}),\n",
       " ('data/no_excitation,nsteps=1200.out', {'nsteps': 1200}),\n",
       " ('data/no_excitation,nsteps=1300.out', {'nsteps': 1300}),\n",
       " ('data/no_excitation,nsteps=1400.out', {'nsteps': 1400}),\n",
       " ('data/no_excitation,nsteps=1500.out', {'nsteps': 1500}),\n",
       " ('data/no_excitation,nsteps=1600.out', {'nsteps': 1600}),\n",
       " ('data/no_excitation,nsteps=1700.out', {'nsteps': 1700}),\n",
       " ('data/no_excitation,nsteps=1800.out', {'nsteps': 1800}),\n",
       " ('data/no_excitation,nsteps=1900.out', {'nsteps': 1900}),\n",
       " ('data/no_excitation,nsteps=2000.out', {'nsteps': 2000})]"
      ]
     },
     "execution_count": 13,
     "metadata": {},
     "output_type": "execute_result"
    }
   ],
   "source": [
    "# Filter stuff\n",
    "file_and_params = []\n",
    "\n",
    "for file, params in zip(outputs, all_params):\n",
    "    file_and_params.append((file, params))\n",
    "\n",
    "file_and_params"
   ]
  },
  {
   "cell_type": "markdown",
   "metadata": {},
   "source": [
    "# Plots!"
   ]
  },
  {
   "cell_type": "code",
   "execution_count": 14,
   "metadata": {},
   "outputs": [
    {
     "data": {
      "image/png": "[encoded data removed]",
      "text/plain": [
       "<Figure size 400x350 with 1 Axes>"
      ]
     },
     "metadata": {},
     "output_type": "display_data"
    }
   ],
   "source": [
    "for (file, params) in file_and_params:\n",
    "    data = np.loadtxt(path + file)\n",
    "    t, theta, thetadot = data[:,0], data[:,1], data[:,2]\n",
    "    # p = m L^2 thetadot\n",
    "    plt.plot(theta, thetadot / (conf['m'] * conf['L']**2))\n",
    "\n",
    "# plt.axis('equal')\n",
    "plt.xlabel(r'$\\theta$ [rad]')\n",
    "plt.ylabel(r'$\\dot{\\theta}$ [rad/s]')\n",
    "plt.grid()\n",
    "# plt.legend()\n",
    "plt.savefig(export_path + 'feuriste.pdf')"
   ]
  },
  {
   "cell_type": "markdown",
   "metadata": {},
   "source": [
    "## Position error"
   ]
  },
  {
   "cell_type": "code",
   "execution_count": 15,
   "metadata": {},
   "outputs": [],
   "source": [
    "pos_errors = np.zeros(nsimul)\n",
    "speed_errors = np.zeros(nsimul)\n",
    "for i, (file, params) in enumerate(file_and_params):\n",
    "    data = np.loadtxt(path + file)\n",
    "    tf, thetaf, thetadotf = data[-1,0], data[-1,1], data[-1,2]\n",
    "    actual_theta = analytical_theta(tf)\n",
    "    actual_thetadot = analytical_thetadot(tf)\n",
    "    pos_errors[i] = abs(actual_theta - thetaf)\n",
    "    speed_errors[i] = abs(actual_thetadot - thetadotf)"
   ]
  },
  {
   "cell_type": "code",
   "execution_count": 16,
   "metadata": {},
   "outputs": [
    {
     "data": {
      "image/png": "[encoded data removed]",
      "text/plain": [
       "<Figure size 400x350 with 1 Axes>"
      ]
     },
     "metadata": {},
     "output_type": "display_data"
    }
   ],
   "source": [
    "plt.loglog(dt, pos_errors, '.-', label='Pos')\n",
    "plt.loglog(dt, dt**4)\n",
    "\n",
    "plt.xlabel(r'$\\Delta t$ [s]')\n",
    "plt.ylabel(r'Final position error [m]')\n",
    "plt.xticks()\n",
    "plt.yticks()\n",
    "plt.grid()\n",
    "plt.legend()\n",
    "plt.axis('equal')\n",
    "plt.savefig(export_path + 'no_excitation_pos_conv.pdf')"
   ]
  },
  {
   "cell_type": "code",
   "execution_count": 17,
   "metadata": {},
   "outputs": [
    {
     "data": {
      "image/png": "[encoded data removed]",
      "text/plain": [
       "<Figure size 400x350 with 1 Axes>"
      ]
     },
     "metadata": {},
     "output_type": "display_data"
    }
   ],
   "source": [
    "plt.loglog(dt, speed_errors, '.-', label='Speed')\n",
    "# plt.loglog(dt, dt**2)\n",
    "\n",
    "plt.xlabel(r'$\\Delta t$ [s]')\n",
    "plt.ylabel(r'Final position error [m]')\n",
    "plt.xticks()\n",
    "plt.yticks()\n",
    "plt.grid()\n",
    "plt.legend()\n",
    "plt.axis('equal')\n",
    "plt.savefig(export_path + 'no_excitation_pos_conv.pdf')"
   ]
  },
  {
   "cell_type": "markdown",
   "metadata": {},
   "source": [
    "## Energy error"
   ]
  },
  {
   "cell_type": "code",
   "execution_count": 15,
   "metadata": {},
   "outputs": [
    {
     "ename": "NameError",
     "evalue": "name 'e1' is not defined",
     "output_type": "error",
     "traceback": [
      "\u001b[0;31m---------------------------------------------------------------------------\u001b[0m",
      "\u001b[0;31mNameError\u001b[0m                                 Traceback (most recent call last)",
      "Cell \u001b[0;32mIn[15], line 2\u001b[0m\n\u001b[1;32m      1\u001b[0m get_ipython()\u001b[38;5;241m.\u001b[39mrun_line_magic(\u001b[38;5;124m'\u001b[39m\u001b[38;5;124mmatplotlib\u001b[39m\u001b[38;5;124m'\u001b[39m, \u001b[38;5;124m'\u001b[39m\u001b[38;5;124minline\u001b[39m\u001b[38;5;124m'\u001b[39m)\n\u001b[0;32m----> 2\u001b[0m plt\u001b[38;5;241m.\u001b[39mloglog(dt, \u001b[43me1\u001b[49m, \u001b[38;5;124m'\u001b[39m\u001b[38;5;124mr|-\u001b[39m\u001b[38;5;124m'\u001b[39m, label\u001b[38;5;241m=\u001b[39m\u001b[38;5;124m'\u001b[39m\u001b[38;5;124mExplicit\u001b[39m\u001b[38;5;124m'\u001b[39m)\n\u001b[1;32m      3\u001b[0m plt\u001b[38;5;241m.\u001b[39mloglog(dt, e2, \u001b[38;5;124m'\u001b[39m\u001b[38;5;124mg_-\u001b[39m\u001b[38;5;124m'\u001b[39m, label\u001b[38;5;241m=\u001b[39m\u001b[38;5;124m'\u001b[39m\u001b[38;5;124mImplicit\u001b[39m\u001b[38;5;124m'\u001b[39m)\n\u001b[1;32m      4\u001b[0m plt\u001b[38;5;241m.\u001b[39mloglog(dt, e3, \u001b[38;5;124m'\u001b[39m\u001b[38;5;124mb.-\u001b[39m\u001b[38;5;124m'\u001b[39m, label\u001b[38;5;241m=\u001b[39m\u001b[38;5;124m'\u001b[39m\u001b[38;5;124mSemi-implicit\u001b[39m\u001b[38;5;124m'\u001b[39m)\n",
      "\u001b[0;31mNameError\u001b[0m: name 'e1' is not defined"
     ]
    }
   ],
   "source": [
    "%matplotlib inline\n",
    "plt.loglog(dt, e1, 'r|-', label='Explicit')\n",
    "plt.loglog(dt, e2, 'g_-', label='Implicit')\n",
    "plt.loglog(dt, e3, 'b.-', label='Semi-implicit')\n",
    "\n",
    "x1, x2, y1, y2 = 9e-3, 1e-1, 4e-2, 5e-1\n",
    "axins = plt.gca().inset_axes(\n",
    "    [0.14, 0.42, 0.3, 0.3],\n",
    "    xlim=(x1, x2), ylim=(y1, y2),\n",
    ")\n",
    "axins.loglog(dt, e1, 'r|-', label='Explicit')\n",
    "axins.plot(dt, e2, 'g_-', label='Implicit')\n",
    "axins.grid()\n",
    "axins.set_aspect('equal')\n",
    "plt.gca().indicate_inset_zoom(axins, edgecolor=\"black\")\n",
    "\n",
    "plt.xlabel(r'$\\Delta t$ [s]')\n",
    "plt.ylabel(r'Energy error [J]')\n",
    "plt.xticks()\n",
    "plt.yticks()\n",
    "plt.grid()\n",
    "plt.legend(loc='center right')\n",
    "plt.axis('equal')\n",
    "plt.savefig(export_path + 'nograv_energy_error_all.pdf')"
   ]
  },
  {
   "cell_type": "markdown",
   "metadata": {},
   "source": [
    "## Energy steps"
   ]
  },
  {
   "cell_type": "code",
   "execution_count": null,
   "metadata": {},
   "outputs": [],
   "source": [
    "%matplotlib inline\n",
    "\n",
    "def fit_func(xdata, gamma):\n",
    "    return 0.748151036383996-1 + np.exp(gamma * xdata)\n",
    "\n",
    "def plot_energies(dataset, **kwargs):\n",
    "    for i, (file, params) in enumerate(dataset):\n",
    "        if params['nsteps'] not in [60, 200, 400, 1600, 4000]:\n",
    "            continue\n",
    "        data = np.loadtxt(path + file)\n",
    "        t, En1 = data[:, 0], data[:, 5]\n",
    "        plt.plot(t, En1, label=f\"$n_\\\\textrm{{steps}}={params['nsteps']}$\", **kwargs)\n",
    "        things = sc.optimize.curve_fit(fit_func, t, En1)\n",
    "        print(f\"nsteps={params['nsteps']}, gamma={things[0][0]:.4f}\")\n",
    "        # plt.plot(t, fit_func(t, *things[0]), **kwargs)\n",
    "\n",
    "    plt.xlabel(r'$t$ [s]')\n",
    "    plt.ylabel(r'$E_\\textrm{mec}$ [J]')\n",
    "    plt.xticks()\n",
    "    plt.yticks()\n",
    "    plt.grid()\n",
    "    plt.legend()"
   ]
  },
  {
   "cell_type": "code",
   "execution_count": null,
   "metadata": {},
   "outputs": [],
   "source": [
    "# plt.close()\n",
    "plot_energies(explicit)\n",
    "# plt.yscale('log')\n",
    "ratio = 0.5\n",
    "xleft, xright = plt.xlim()\n",
    "ybottom, ytop = plt.ylim()\n",
    "plt.gca().set_aspect(abs((xright-xleft)/(ybottom-ytop))*ratio)\n",
    "plt.savefig(export_path + 'nograv_energy_explicit.pdf')\n",
    "plt.show()"
   ]
  },
  {
   "cell_type": "code",
   "execution_count": null,
   "metadata": {},
   "outputs": [],
   "source": [
    "plot_energies(implicit)\n",
    "# plt.yscale('log')\n",
    "ratio = 0.5\n",
    "xleft, xright = plt.xlim()\n",
    "ybottom, ytop = plt.ylim()\n",
    "plt.gca().set_aspect(abs((xright-xleft)/(ybottom-ytop))*ratio)\n",
    "plt.savefig(export_path + 'nograv_energy_implicit.pdf')\n",
    "plt.show()"
   ]
  },
  {
   "cell_type": "code",
   "execution_count": null,
   "metadata": {},
   "outputs": [],
   "source": [
    "plot_energies(semi_implicit)\n",
    "ratio = 0.5\n",
    "xleft, xright = plt.xlim()\n",
    "ybottom, ytop = plt.ylim()\n",
    "plt.gca().set_aspect(abs((xright-xleft)/(ybottom-ytop))*ratio)\n",
    "plt.legend(ncols=2)\n",
    "plt.ticklabel_format(useOffset=False)\n",
    "plt.savefig(export_path + 'nograv_energy_semiimplicit.pdf')\n",
    "plt.show()\n",
    "\n",
    "# plot_energies(explicit, c='r')\n",
    "# plot_energies(implicit, c='g')\n",
    "# plot_energies(semi_implicit, c='b')"
   ]
  },
  {
   "cell_type": "code",
   "execution_count": null,
   "metadata": {},
   "outputs": [],
   "source": []
  }
 ],
 "metadata": {
  "kernelspec": {
   "display_name": ".venv",
   "language": "python",
   "name": "python3"
  },
  "language_info": {
   "codemirror_mode": {
    "name": "ipython",
    "version": 3
   },
   "file_extension": ".py",
   "mimetype": "text/x-python",
   "name": "python",
   "nbconvert_exporter": "python",
   "pygments_lexer": "ipython3",
   "version": "3.12.2"
  }
 },
 "nbformat": 4,
 "nbformat_minor": 2
}
