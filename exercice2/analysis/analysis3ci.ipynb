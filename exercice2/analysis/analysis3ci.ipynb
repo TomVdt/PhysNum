{
 "cells": [
  {
   "cell_type": "code",
   "execution_count": 1,
   "metadata": {},
   "outputs": [],
   "source": [
    "# %matplotlib inline\n",
    "import numpy as np\n",
    "import matplotlib.pyplot as plt\n",
    "import matplotlib as mpl\n",
    "import subprocess\n",
    "import scipy as sc\n",
    "from itertools import product\n",
    "\n",
    "mpl.rcParams.update({\n",
    "    \"text.usetex\": True,\n",
    "    \"font.family\": \"serif\",\n",
    "    \"axes.labelsize\": 12,\n",
    "    \"font.size\": 12,\n",
    "    \"legend.fontsize\": 10,\n",
    "    \"xtick.labelsize\": 12,\n",
    "    \"ytick.labelsize\": 12,\n",
    "    \"figure.figsize\": (4, 3.5),\n",
    "    \"text.latex.preamble\": \"\\n\".join([\n",
    "        r\"\\usepackage[utf8]{inputenc}\",\n",
    "        r\"\\usepackage[T1]{fontenc}\",\n",
    "        r\"\\usepackage[detect-all,locale=FR]{siunitx}\",\n",
    "    ]),\n",
    "    'lines.markersize': 10,\n",
    "    'lines.color': 'grey',\n",
    "    'scatter.marker': '+',\n",
    "    'errorbar.capsize': 3,\n",
    "    'savefig.bbox': 'tight',\n",
    "})"
   ]
  },
  {
   "cell_type": "code",
   "execution_count": 2,
   "metadata": {},
   "outputs": [],
   "source": [
    "path = '../'\n",
    "executable = 'bin/ex2'\n",
    "export_path = path + 'rapport/figures/'\n",
    "data_path = 'data/'\n",
    "config_path = 'bin/'\n",
    "config_name = 'excitation_smol'\n",
    "config_ext = '.conf'"
   ]
  },
  {
   "cell_type": "code",
   "execution_count": 3,
   "metadata": {},
   "outputs": [],
   "source": [
    "def stringify_dict(d: dict, sep=',') -> str:\n",
    "    return sep.join(map(lambda a: str(a[0]) + \"=\" + str(a[1]), tuple(d.items())))"
   ]
  },
  {
   "cell_type": "code",
   "execution_count": 4,
   "metadata": {},
   "outputs": [],
   "source": [
    "def run(config_file: str, output_file: str, params: dict = {}) -> None:\n",
    "    # print(f\"Running with config file {config_file}\")\n",
    "    options = stringify_dict(params, sep=' ')\n",
    "    cmd = f\"{path}{executable} {path}{config_file} output='{path}{output_file}' {options}\"\n",
    "    print(f\"Running command `{cmd}`\")\n",
    "    subprocess.run(cmd, shell=True, stdout=subprocess.DEVNULL)\n",
    "    # print(\"Done\")"
   ]
  },
  {
   "cell_type": "code",
   "execution_count": 5,
   "metadata": {},
   "outputs": [
    {
     "name": "stdout",
     "output_type": "stream",
     "text": [
      "89.71402930932747\n"
     ]
    }
   ],
   "source": [
    "# nsteps = np.array([*range(500, 2001, 100)])\n",
    "\n",
    "conf = {}\n",
    "with open(path + config_path + config_name + config_ext, 'r') as f:\n",
    "    lines = f.read().split('\\n')\n",
    "\n",
    "for line in lines:\n",
    "    if not line:\n",
    "        continue\n",
    "    name, _, val, *_ = line.split(' ')\n",
    "    name = name.strip()\n",
    "    val = val.strip()\n",
    "    try:\n",
    "        conf[name] = float(val)\n",
    "    except ValueError:\n",
    "        conf[name] = val\n",
    "\n",
    "\n",
    "nsteps = np.array([1000])\n",
    "# nsimul = len(nsteps)  # Number of simulations to perform\n",
    "\n",
    "omega0 = np.sqrt(conf['g']/conf['L'])\n",
    "omega = 2*omega0\n",
    "\n",
    "period_excit = 2*np.pi / omega\n",
    "tFin = 200 * period_excit\n",
    "print(tFin)\n",
    "\n",
    "dt = tFin / nsteps"
   ]
  },
  {
   "cell_type": "code",
   "execution_count": 6,
   "metadata": {},
   "outputs": [
    {
     "name": "stdout",
     "output_type": "stream",
     "text": [
      "clang++ -o bin/ex2 src/Ex2_2024_student.cpp -std=c++17 -Wall -Wextra -O2 \n"
     ]
    }
   ],
   "source": [
    "%%bash\n",
    "cd .. && make clean && make"
   ]
  },
  {
   "cell_type": "code",
   "execution_count": 7,
   "metadata": {},
   "outputs": [
    {
     "name": "stdout",
     "output_type": "stream",
     "text": [
      "Running command `../bin/ex2 ../bin/excitation_smol.conf output='../data/excitation_smol,nsteps=1000,Omega=14.007141035914502.out' nsteps=1000 Omega=14.007141035914502`\n"
     ]
    }
   ],
   "source": [
    "params_variations = {\n",
    "    'nsteps': nsteps,\n",
    "    'Omega': [omega],\n",
    "    # 'tFin': [tFin],\n",
    "    # 'N': [0]\n",
    "}\n",
    "all_params = tuple(\n",
    "    {a: b for a, b in zip(params_variations.keys(), c)} for c in product(*params_variations.values())\n",
    ")\n",
    "\n",
    "# Run simulations\n",
    "outputs = []  # List to store output file names\n",
    "for params in all_params:\n",
    "    output_file = f\"{data_path}{config_name},{stringify_dict(params)}.out\"\n",
    "    outputs.append(output_file)\n",
    "    run(f'{config_path}{config_name}{config_ext}', output_file, params)"
   ]
  },
  {
   "cell_type": "code",
   "execution_count": 8,
   "metadata": {},
   "outputs": [],
   "source": [
    "# Filter stuff\n",
    "file_and_params = []\n",
    "all_data = {}\n",
    "\n",
    "for file, params in zip(outputs, all_params):\n",
    "    file_and_params.append((file, params))\n",
    "    data = np.loadtxt(path + file)\n",
    "    all_data[file] = (params, np.copy(data))"
   ]
  },
  {
   "cell_type": "markdown",
   "metadata": {},
   "source": [
    "# Plots!"
   ]
  },
  {
   "cell_type": "code",
   "execution_count": 9,
   "metadata": {},
   "outputs": [
    {
     "data": {
      "image/png": "[encoded data removed]",
      "text/plain": [
       "<Figure size 400x350 with 1 Axes>"
      ]
     },
     "metadata": {},
     "output_type": "display_data"
    }
   ],
   "source": [
    "for (params, data) in all_data.values():\n",
    "    t, theta, thetadot = data[:,0], data[:,1], data[:,2]\n",
    "    plt.plot(t, theta)\n",
    "\n",
    "plt.xlabel(r\"$t$ [s]\")\n",
    "plt.ylabel(r\"$\\theta(t)$ [rad]\")\n",
    "plt.grid()\n"
   ]
  }
 ],
 "metadata": {
  "kernelspec": {
   "display_name": ".venv",
   "language": "python",
   "name": "python3"
  },
  "language_info": {
   "codemirror_mode": {
    "name": "ipython",
    "version": 3
   },
   "file_extension": ".py",
   "mimetype": "text/x-python",
   "name": "python",
   "nbconvert_exporter": "python",
   "pygments_lexer": "ipython3",
   "version": "3.11.6"
  }
 },
 "nbformat": 4,
 "nbformat_minor": 2
}
