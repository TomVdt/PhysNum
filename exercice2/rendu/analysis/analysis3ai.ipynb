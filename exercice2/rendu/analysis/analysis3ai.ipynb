{
 "cells": [
  {
   "cell_type": "code",
   "execution_count": 2,
   "metadata": {},
   "outputs": [],
   "source": [
    "# %matplotlib inline\n",
    "import numpy as np\n",
    "import matplotlib.pyplot as plt\n",
    "import matplotlib as mpl\n",
    "import subprocess\n",
    "import scipy as sc\n",
    "from itertools import product\n",
    "\n",
    "mpl.rcParams.update({\n",
    "    \"text.usetex\": True,\n",
    "    \"font.family\": \"serif\",\n",
    "    \"axes.labelsize\": 12,\n",
    "    \"font.size\": 12,\n",
    "    \"legend.fontsize\": 10,\n",
    "    \"xtick.labelsize\": 12,\n",
    "    \"ytick.labelsize\": 12,\n",
    "    \"figure.figsize\": (4, 3.5),\n",
    "    \"text.latex.preamble\": \"\\n\".join([\n",
    "        r\"\\usepackage[utf8]{inputenc}\",\n",
    "        r\"\\usepackage[T1]{fontenc}\",\n",
    "        r\"\\usepackage[detect-all,locale=FR]{siunitx}\",\n",
    "    ]),\n",
    "    'lines.markersize': 10,\n",
    "    'lines.color': 'grey',\n",
    "    'scatter.marker': '+',\n",
    "    'errorbar.capsize': 3,\n",
    "    'savefig.bbox': 'tight',\n",
    "})"
   ]
  },
  {
   "cell_type": "code",
   "execution_count": 3,
   "metadata": {},
   "outputs": [],
   "source": [
    "path = '../'\n",
    "executable = 'bin/ex2'\n",
    "export_path = path + 'rapport/figures/'\n",
    "data_path = 'data/'\n",
    "config_path = 'bin/'\n",
    "config_name = 'no_excitation'\n",
    "config_ext = '.conf'"
   ]
  },
  {
   "cell_type": "code",
   "execution_count": 4,
   "metadata": {},
   "outputs": [],
   "source": [
    "def stringify_dict(d: dict, sep=',') -> str:\n",
    "    return sep.join(map(lambda a: str(a[0]) + \"=\" + str(a[1]), tuple(d.items())))"
   ]
  },
  {
   "cell_type": "code",
   "execution_count": 5,
   "metadata": {},
   "outputs": [],
   "source": [
    "def run(config_file: str, output_file: str, params: dict = {}) -> None:\n",
    "    # print(f\"Running with config file {config_file}\")\n",
    "    options = stringify_dict(params, sep=' ')\n",
    "    cmd = f\"{path}{executable} {path}{config_file} output='{path}{output_file}' {options}\"\n",
    "    print(f\"Running command `{cmd}`\")\n",
    "    subprocess.run(cmd, shell=True, stdout=subprocess.DEVNULL)\n",
    "    # print(\"Done\")"
   ]
  },
  {
   "cell_type": "code",
   "execution_count": 26,
   "metadata": {},
   "outputs": [
    {
     "data": {
      "text/plain": [
       "2.691420879279824"
      ]
     },
     "execution_count": 26,
     "metadata": {},
     "output_type": "execute_result"
    }
   ],
   "source": [
    "nsteps = np.geomspace(200, 10000, 20)\n",
    "nsimul = len(nsteps)  # Number of simulations to perform\n",
    "\n",
    "conf = {}\n",
    "with open(path + config_path + config_name + config_ext, 'r') as f:\n",
    "    lines = f.read().split('\\n')\n",
    "\n",
    "for line in lines:\n",
    "    if not line:\n",
    "        continue\n",
    "    name, _, val, *_ = line.split(' ')\n",
    "    name = name.strip()\n",
    "    val = val.strip()\n",
    "    try:\n",
    "        conf[name] = float(val)\n",
    "    except ValueError:\n",
    "        conf[name] = val\n",
    "\n",
    "# 3 periodes\n",
    "omega0 = np.sqrt(conf['g']/conf['L'])\n",
    "tFin = 6 * np.pi / omega0\n",
    "dt = tFin / (3 * nsteps)\n",
    "assert conf['tFin'] == tFin\n",
    "tFin"
   ]
  },
  {
   "cell_type": "code",
   "execution_count": 27,
   "metadata": {},
   "outputs": [],
   "source": [
    "def analytical_theta(t: float) -> float:\n",
    "    return conf['theta0'] * np.cos(omega0 * t)"
   ]
  },
  {
   "cell_type": "code",
   "execution_count": 28,
   "metadata": {},
   "outputs": [],
   "source": [
    "def analytical_thetadot(t: float) -> float:\n",
    "    return -omega0 * conf['theta0'] * np.sin(omega0 * t)"
   ]
  },
  {
   "cell_type": "code",
   "execution_count": 29,
   "metadata": {},
   "outputs": [
    {
     "name": "stdout",
     "output_type": "stream",
     "text": [
      "clang++ -o bin/ex2 src/Ex2_2024_student.cpp -std=c++17 -Wall -Wextra -O2 \n"
     ]
    }
   ],
   "source": [
    "%%bash\n",
    "cd .. && make clean && make"
   ]
  },
  {
   "cell_type": "code",
   "execution_count": 30,
   "metadata": {},
   "outputs": [
    {
     "name": "stdout",
     "output_type": "stream",
     "text": [
      "Running command `../bin/ex2 ../bin/no_excitation.conf output='../data/no_excitation,nsteps=200.0.out' nsteps=200.0`\n",
      "Running command `../bin/ex2 ../bin/no_excitation.conf output='../data/no_excitation,nsteps=245.72507119869562.out' nsteps=245.72507119869562`\n",
      "Running command `../bin/ex2 ../bin/no_excitation.conf output='../data/no_excitation,nsteps=301.90405307802007.out' nsteps=301.90405307802007`\n",
      "Running command `../bin/ex2 ../bin/no_excitation.conf output='../data/no_excitation,nsteps=370.92697468885586.out' nsteps=370.92697468885586`\n",
      "Running command `../bin/ex2 ../bin/no_excitation.conf output='../data/no_excitation,nsteps=455.7302863246793.out' nsteps=455.7302863246793`\n",
      "Running command `../bin/ex2 ../bin/no_excitation.conf output='../data/no_excitation,nsteps=559.9217852726687.out' nsteps=559.9217852726687`\n",
      "Running command `../bin/ex2 ../bin/no_excitation.conf output='../data/no_excitation,nsteps=687.9341027591363.out' nsteps=687.9341027591363`\n",
      "Running command `../bin/ex2 ../bin/no_excitation.conf output='../data/no_excitation,nsteps=845.2132819024976.out' nsteps=845.2132819024976`\n",
      "Running command `../bin/ex2 ../bin/no_excitation.conf output='../data/no_excitation,nsteps=1038.4504693678718.out' nsteps=1038.4504693678718`\n",
      "Running command `../bin/ex2 ../bin/no_excitation.conf output='../data/no_excitation,nsteps=1275.8665776086957.out' nsteps=1275.8665776086957`\n",
      "Running command `../bin/ex2 ../bin/no_excitation.conf output='../data/no_excitation,nsteps=1567.5620281146623.out' nsteps=1567.5620281146623`\n",
      "Running command `../bin/ex2 ../bin/no_excitation.conf output='../data/no_excitation,nsteps=1925.9464548342353.out' nsteps=1925.9464548342353`\n",
      "Running command `../bin/ex2 ../bin/no_excitation.conf output='../data/no_excitation,nsteps=2366.266648695089.out' nsteps=2366.266648695089`\n",
      "Running command `../bin/ex2 ../bin/no_excitation.conf output='../data/no_excitation,nsteps=2907.2552036284974.out' nsteps=2907.2552036284974`\n",
      "Running command `../bin/ex2 ../bin/no_excitation.conf output='../data/no_excitation,nsteps=3571.9274595219536.out' nsteps=3571.9274595219536`\n",
      "Running command `../bin/ex2 ../bin/no_excitation.conf output='../data/no_excitation,nsteps=4388.560646538034.out' nsteps=4388.560646538034`\n",
      "Running command `../bin/ex2 ../bin/no_excitation.conf output='../data/no_excitation,nsteps=5391.896886651765.out' nsteps=5391.896886651765`\n",
      "Running command `../bin/ex2 ../bin/no_excitation.conf output='../data/no_excitation,nsteps=6624.621231842643.out' nsteps=6624.621231842643`\n",
      "Running command `../bin/ex2 ../bin/no_excitation.conf output='../data/no_excitation,nsteps=8139.17761929462.out' nsteps=8139.17761929462`\n",
      "Running command `../bin/ex2 ../bin/no_excitation.conf output='../data/no_excitation,nsteps=10000.0.out' nsteps=10000.0`\n"
     ]
    }
   ],
   "source": [
    "params_variations = {\n",
    "    'nsteps': nsteps,\n",
    "}\n",
    "all_params = tuple(\n",
    "    {a: b for a, b in zip(params_variations.keys(), c)} for c in product(*params_variations.values())\n",
    ")\n",
    "\n",
    "# Run simulations\n",
    "outputs = []  # List to store output file names\n",
    "for params in all_params:\n",
    "    output_file = f\"{data_path}{config_name},{stringify_dict(params)}.out\"\n",
    "    outputs.append(output_file)\n",
    "    run(f'{config_path}{config_name}{config_ext}', output_file, params)"
   ]
  },
  {
   "cell_type": "code",
   "execution_count": 31,
   "metadata": {},
   "outputs": [
    {
     "data": {
      "text/plain": [
       "[('data/no_excitation,nsteps=200.0.out', {'nsteps': 200.0}),\n",
       " ('data/no_excitation,nsteps=245.72507119869562.out',\n",
       "  {'nsteps': 245.72507119869562}),\n",
       " ('data/no_excitation,nsteps=301.90405307802007.out',\n",
       "  {'nsteps': 301.90405307802007}),\n",
       " ('data/no_excitation,nsteps=370.92697468885586.out',\n",
       "  {'nsteps': 370.92697468885586}),\n",
       " ('data/no_excitation,nsteps=455.7302863246793.out',\n",
       "  {'nsteps': 455.7302863246793}),\n",
       " ('data/no_excitation,nsteps=559.9217852726687.out',\n",
       "  {'nsteps': 559.9217852726687}),\n",
       " ('data/no_excitation,nsteps=687.9341027591363.out',\n",
       "  {'nsteps': 687.9341027591363}),\n",
       " ('data/no_excitation,nsteps=845.2132819024976.out',\n",
       "  {'nsteps': 845.2132819024976}),\n",
       " ('data/no_excitation,nsteps=1038.4504693678718.out',\n",
       "  {'nsteps': 1038.4504693678718}),\n",
       " ('data/no_excitation,nsteps=1275.8665776086957.out',\n",
       "  {'nsteps': 1275.8665776086957}),\n",
       " ('data/no_excitation,nsteps=1567.5620281146623.out',\n",
       "  {'nsteps': 1567.5620281146623}),\n",
       " ('data/no_excitation,nsteps=1925.9464548342353.out',\n",
       "  {'nsteps': 1925.9464548342353}),\n",
       " ('data/no_excitation,nsteps=2366.266648695089.out',\n",
       "  {'nsteps': 2366.266648695089}),\n",
       " ('data/no_excitation,nsteps=2907.2552036284974.out',\n",
       "  {'nsteps': 2907.2552036284974}),\n",
       " ('data/no_excitation,nsteps=3571.9274595219536.out',\n",
       "  {'nsteps': 3571.9274595219536}),\n",
       " ('data/no_excitation,nsteps=4388.560646538034.out',\n",
       "  {'nsteps': 4388.560646538034}),\n",
       " ('data/no_excitation,nsteps=5391.896886651765.out',\n",
       "  {'nsteps': 5391.896886651765}),\n",
       " ('data/no_excitation,nsteps=6624.621231842643.out',\n",
       "  {'nsteps': 6624.621231842643}),\n",
       " ('data/no_excitation,nsteps=8139.17761929462.out',\n",
       "  {'nsteps': 8139.17761929462}),\n",
       " ('data/no_excitation,nsteps=10000.0.out', {'nsteps': 10000.0})]"
      ]
     },
     "execution_count": 31,
     "metadata": {},
     "output_type": "execute_result"
    }
   ],
   "source": [
    "# Filter stuff\n",
    "file_and_params = []\n",
    "\n",
    "for file, params in zip(outputs, all_params):\n",
    "    file_and_params.append((file, params))\n",
    "\n",
    "file_and_params"
   ]
  },
  {
   "cell_type": "markdown",
   "metadata": {},
   "source": [
    "# Plots!"
   ]
  },
  {
   "cell_type": "code",
   "execution_count": 32,
   "metadata": {},
   "outputs": [
    {
     "data": {
      "image/png": "[encoded data removed]",
      "text/plain": [
       "<Figure size 400x350 with 1 Axes>"
      ]
     },
     "metadata": {},
     "output_type": "display_data"
    }
   ],
   "source": [
    "for (file, params) in file_and_params:\n",
    "    data = np.loadtxt(path + file)\n",
    "    t, theta, thetadot = data[:,0], data[:,1], data[:,2]\n",
    "    # p = m L^2 thetadot\n",
    "    plt.plot(theta, thetadot / (conf['m'] * conf['L']**2))\n",
    "\n",
    "# plt.axis('equal')\n",
    "plt.xlabel(r'$\\theta$ [rad]')\n",
    "plt.ylabel(r'$\\dot{\\theta}$ [rad/s]')\n",
    "plt.grid()\n",
    "# plt.legend()"
   ]
  },
  {
   "cell_type": "markdown",
   "metadata": {},
   "source": [
    "## Position error"
   ]
  },
  {
   "cell_type": "code",
   "execution_count": 33,
   "metadata": {},
   "outputs": [],
   "source": [
    "pos_errors = np.zeros(nsimul)\n",
    "speed_errors = np.zeros(nsimul)\n",
    "for i, (file, params) in enumerate(file_and_params):\n",
    "    data = np.loadtxt(path + file)\n",
    "    tf, thetaf, thetadotf = data[-1,0], data[-1,1], data[-1,2]\n",
    "    actual_theta = analytical_theta(tf)\n",
    "    actual_thetadot = analytical_thetadot(tf)\n",
    "    pos_errors[i] = abs(actual_theta - thetaf)\n",
    "    speed_errors[i] = abs(actual_thetadot - thetadotf)"
   ]
  },
  {
   "cell_type": "code",
   "execution_count": 42,
   "metadata": {},
   "outputs": [
    {
     "data": {
      "image/png": "[encoded data removed]",
      "text/plain": [
       "<Figure size 400x350 with 1 Axes>"
      ]
     },
     "metadata": {},
     "output_type": "display_data"
    }
   ],
   "source": [
    "plt.loglog(dt, pos_errors, '+--', fillstyle='none', label='Pos')\n",
    "# plt.loglog(dt, dt**4)\n",
    "\n",
    "plt.xlabel(r'$\\Delta t$ [s]')\n",
    "plt.ylabel(r'Final angle error [rad]')\n",
    "plt.xticks()\n",
    "plt.yticks()\n",
    "plt.grid()\n",
    "# plt.legend()\n",
    "plt.axis('equal')\n",
    "plt.savefig(export_path + 'no_excitation_pos_conv.pdf')"
   ]
  },
  {
   "cell_type": "code",
   "execution_count": 43,
   "metadata": {},
   "outputs": [
    {
     "data": {
      "image/png": "[encoded data removed]",
      "text/plain": [
       "<Figure size 400x350 with 1 Axes>"
      ]
     },
     "metadata": {},
     "output_type": "display_data"
    }
   ],
   "source": [
    "plt.loglog(dt, speed_errors, '+--', fillstyle='none', label='Speed')\n",
    "# plt.loglog(dt, dt**2)\n",
    "\n",
    "plt.xlabel(r'$\\Delta t$ [s]')\n",
    "plt.ylabel(r'Final angular speed error [rad/s]')\n",
    "plt.xticks()\n",
    "plt.yticks()\n",
    "plt.grid()\n",
    "# plt.legend()\n",
    "plt.axis('equal')\n",
    "plt.savefig(export_path + 'no_excitation_vel_conv.pdf')"
   ]
  }
 ],
 "metadata": {
  "kernelspec": {
   "display_name": ".venv",
   "language": "python",
   "name": "python3"
  },
  "language_info": {
   "codemirror_mode": {
    "name": "ipython",
    "version": 3
   },
   "file_extension": ".py",
   "mimetype": "text/x-python",
   "name": "python",
   "nbconvert_exporter": "python",
   "pygments_lexer": "ipython3",
   "version": "3.12.2"
  }
 },
 "nbformat": 4,
 "nbformat_minor": 2
}
