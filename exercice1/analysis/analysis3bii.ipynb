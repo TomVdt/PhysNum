{
 "cells": [
  {
   "cell_type": "code",
   "execution_count": 2,
   "metadata": {},
   "outputs": [],
   "source": [
    "%matplotlib inline\n",
    "import numpy as np\n",
    "import matplotlib.pyplot as plt\n",
    "import matplotlib as mpl\n",
    "import subprocess\n",
    "from itertools import product\n",
    "\n",
    "mpl.rcParams.update({\n",
    "    \"text.usetex\": True,\n",
    "    \"font.family\": \"serif\",\n",
    "    \"axes.labelsize\": 12,\n",
    "    \"font.size\": 12,\n",
    "    \"legend.fontsize\": 10,\n",
    "    \"xtick.labelsize\": 12,\n",
    "    \"ytick.labelsize\": 12,\n",
    "    \"figure.figsize\": (4, 3.5),\n",
    "    \"text.latex.preamble\": \"\\n\".join([\n",
    "        r\"\\usepackage[utf8]{inputenc}\",\n",
    "        r\"\\usepackage[T1]{fontenc}\",\n",
    "        r\"\\usepackage[detect-all,locale=FR]{siunitx}\",\n",
    "    ]),\n",
    "    'lines.markersize': 10,\n",
    "    'lines.color': 'grey',\n",
    "    'scatter.marker': '+',\n",
    "    'errorbar.capsize': 3,\n",
    "    'savefig.bbox': 'tight',\n",
    "})"
   ]
  },
  {
   "cell_type": "code",
   "execution_count": 3,
   "metadata": {},
   "outputs": [],
   "source": [
    "path = '../'\n",
    "executable = 'bin/ex1'\n",
    "# config_file = 'bin/configuration.in.example'\n",
    "export_path = path + 'rapport/figures/'"
   ]
  },
  {
   "cell_type": "code",
   "execution_count": 4,
   "metadata": {},
   "outputs": [],
   "source": [
    "def stringify_dict(d: dict, sep=',') -> str:\n",
    "    return sep.join(map(lambda a: str(a[0]) + \"=\" + str(a[1]), tuple(d.items())))"
   ]
  },
  {
   "cell_type": "code",
   "execution_count": 5,
   "metadata": {},
   "outputs": [],
   "source": [
    "def run(config_file: str, output_file: str, params: dict = {}) -> None:\n",
    "    # print(f\"Running with config file {config_file}\")\n",
    "    options = stringify_dict(params, sep=' ')\n",
    "    cmd = f\"{path}{executable} {path}{config_file} output='{path}{output_file}' {options}\"\n",
    "    print(f\"Running command `{cmd}`\")\n",
    "    subprocess.run(cmd, shell=True, stdout=subprocess.DEVNULL)\n",
    "    # print(\"Done\")"
   ]
  },
  {
   "cell_type": "code",
   "execution_count": 6,
   "metadata": {},
   "outputs": [
    {
     "name": "stdout",
     "output_type": "stream",
     "text": [
      "tfin=21.642813194625333\n"
     ]
    }
   ],
   "source": [
    "nsteps = np.array([*range(100, 4001, 100)]) # TODO change\n",
    "nsimul = len(nsteps)  # Number of simulations to perform\n",
    "\n",
    "m = 0.056\n",
    "v0 = 0\n",
    "omega = 62.831853072\n",
    "mu = 6\n",
    "rho = 1.2\n",
    "R = 0.033\n",
    "\n",
    "alpha = mu * omega * R**3 * rho / m\n",
    "tfin = 2 * np.pi / alpha\n",
    "print(f\"{tfin=}\")\n",
    "dt = tfin / nsteps"
   ]
  },
  {
   "cell_type": "code",
   "execution_count": 7,
   "metadata": {},
   "outputs": [
    {
     "name": "stderr",
     "output_type": "stream",
     "text": [
      "rm: cannot remove 'data/*.log': No such file or directory\n"
     ]
    },
    {
     "name": "stdout",
     "output_type": "stream",
     "text": [
      "clang++ -o bin/ex1 src/Exercice1_student.cpp -std=c++17 -Wall -Wextra -O2 \n"
     ]
    }
   ],
   "source": [
    "%%bash\n",
    "cd .. && make clean && make"
   ]
  },
  {
   "cell_type": "code",
   "execution_count": 8,
   "metadata": {},
   "outputs": [
    {
     "name": "stdout",
     "output_type": "stream",
     "text": [
      "Running command `../bin/ex1 ../bin/rotate_friction.conf output='../data/rotate_friction,nsteps=100,alpha=0.5.out' nsteps=100 alpha=0.5`\n",
      "Running command `../bin/ex1 ../bin/rotate_friction.conf output='../data/rotate_friction,nsteps=200,alpha=0.5.out' nsteps=200 alpha=0.5`\n",
      "Running command `../bin/ex1 ../bin/rotate_friction.conf output='../data/rotate_friction,nsteps=300,alpha=0.5.out' nsteps=300 alpha=0.5`\n",
      "Running command `../bin/ex1 ../bin/rotate_friction.conf output='../data/rotate_friction,nsteps=400,alpha=0.5.out' nsteps=400 alpha=0.5`\n",
      "Running command `../bin/ex1 ../bin/rotate_friction.conf output='../data/rotate_friction,nsteps=500,alpha=0.5.out' nsteps=500 alpha=0.5`\n",
      "Running command `../bin/ex1 ../bin/rotate_friction.conf output='../data/rotate_friction,nsteps=600,alpha=0.5.out' nsteps=600 alpha=0.5`\n",
      "Running command `../bin/ex1 ../bin/rotate_friction.conf output='../data/rotate_friction,nsteps=700,alpha=0.5.out' nsteps=700 alpha=0.5`\n",
      "Running command `../bin/ex1 ../bin/rotate_friction.conf output='../data/rotate_friction,nsteps=800,alpha=0.5.out' nsteps=800 alpha=0.5`\n",
      "Running command `../bin/ex1 ../bin/rotate_friction.conf output='../data/rotate_friction,nsteps=900,alpha=0.5.out' nsteps=900 alpha=0.5`\n",
      "Running command `../bin/ex1 ../bin/rotate_friction.conf output='../data/rotate_friction,nsteps=1000,alpha=0.5.out' nsteps=1000 alpha=0.5`\n",
      "Running command `../bin/ex1 ../bin/rotate_friction.conf output='../data/rotate_friction,nsteps=1100,alpha=0.5.out' nsteps=1100 alpha=0.5`\n",
      "Running command `../bin/ex1 ../bin/rotate_friction.conf output='../data/rotate_friction,nsteps=1200,alpha=0.5.out' nsteps=1200 alpha=0.5`\n",
      "Running command `../bin/ex1 ../bin/rotate_friction.conf output='../data/rotate_friction,nsteps=1300,alpha=0.5.out' nsteps=1300 alpha=0.5`\n",
      "Running command `../bin/ex1 ../bin/rotate_friction.conf output='../data/rotate_friction,nsteps=1400,alpha=0.5.out' nsteps=1400 alpha=0.5`\n",
      "Running command `../bin/ex1 ../bin/rotate_friction.conf output='../data/rotate_friction,nsteps=1500,alpha=0.5.out' nsteps=1500 alpha=0.5`\n",
      "Running command `../bin/ex1 ../bin/rotate_friction.conf output='../data/rotate_friction,nsteps=1600,alpha=0.5.out' nsteps=1600 alpha=0.5`\n",
      "Running command `../bin/ex1 ../bin/rotate_friction.conf output='../data/rotate_friction,nsteps=1700,alpha=0.5.out' nsteps=1700 alpha=0.5`\n",
      "Running command `../bin/ex1 ../bin/rotate_friction.conf output='../data/rotate_friction,nsteps=1800,alpha=0.5.out' nsteps=1800 alpha=0.5`\n",
      "Running command `../bin/ex1 ../bin/rotate_friction.conf output='../data/rotate_friction,nsteps=1900,alpha=0.5.out' nsteps=1900 alpha=0.5`\n",
      "Running command `../bin/ex1 ../bin/rotate_friction.conf output='../data/rotate_friction,nsteps=2000,alpha=0.5.out' nsteps=2000 alpha=0.5`\n",
      "Running command `../bin/ex1 ../bin/rotate_friction.conf output='../data/rotate_friction,nsteps=2100,alpha=0.5.out' nsteps=2100 alpha=0.5`\n",
      "Running command `../bin/ex1 ../bin/rotate_friction.conf output='../data/rotate_friction,nsteps=2200,alpha=0.5.out' nsteps=2200 alpha=0.5`\n",
      "Running command `../bin/ex1 ../bin/rotate_friction.conf output='../data/rotate_friction,nsteps=2300,alpha=0.5.out' nsteps=2300 alpha=0.5`\n",
      "Running command `../bin/ex1 ../bin/rotate_friction.conf output='../data/rotate_friction,nsteps=2400,alpha=0.5.out' nsteps=2400 alpha=0.5`\n",
      "Running command `../bin/ex1 ../bin/rotate_friction.conf output='../data/rotate_friction,nsteps=2500,alpha=0.5.out' nsteps=2500 alpha=0.5`\n",
      "Running command `../bin/ex1 ../bin/rotate_friction.conf output='../data/rotate_friction,nsteps=2600,alpha=0.5.out' nsteps=2600 alpha=0.5`\n",
      "Running command `../bin/ex1 ../bin/rotate_friction.conf output='../data/rotate_friction,nsteps=2700,alpha=0.5.out' nsteps=2700 alpha=0.5`\n",
      "Running command `../bin/ex1 ../bin/rotate_friction.conf output='../data/rotate_friction,nsteps=2800,alpha=0.5.out' nsteps=2800 alpha=0.5`\n",
      "Running command `../bin/ex1 ../bin/rotate_friction.conf output='../data/rotate_friction,nsteps=2900,alpha=0.5.out' nsteps=2900 alpha=0.5`\n",
      "Running command `../bin/ex1 ../bin/rotate_friction.conf output='../data/rotate_friction,nsteps=3000,alpha=0.5.out' nsteps=3000 alpha=0.5`\n",
      "Running command `../bin/ex1 ../bin/rotate_friction.conf output='../data/rotate_friction,nsteps=3100,alpha=0.5.out' nsteps=3100 alpha=0.5`\n",
      "Running command `../bin/ex1 ../bin/rotate_friction.conf output='../data/rotate_friction,nsteps=3200,alpha=0.5.out' nsteps=3200 alpha=0.5`\n",
      "Running command `../bin/ex1 ../bin/rotate_friction.conf output='../data/rotate_friction,nsteps=3300,alpha=0.5.out' nsteps=3300 alpha=0.5`\n",
      "Running command `../bin/ex1 ../bin/rotate_friction.conf output='../data/rotate_friction,nsteps=3400,alpha=0.5.out' nsteps=3400 alpha=0.5`\n",
      "Running command `../bin/ex1 ../bin/rotate_friction.conf output='../data/rotate_friction,nsteps=3500,alpha=0.5.out' nsteps=3500 alpha=0.5`\n",
      "Running command `../bin/ex1 ../bin/rotate_friction.conf output='../data/rotate_friction,nsteps=3600,alpha=0.5.out' nsteps=3600 alpha=0.5`\n",
      "Running command `../bin/ex1 ../bin/rotate_friction.conf output='../data/rotate_friction,nsteps=3700,alpha=0.5.out' nsteps=3700 alpha=0.5`\n",
      "Running command `../bin/ex1 ../bin/rotate_friction.conf output='../data/rotate_friction,nsteps=3800,alpha=0.5.out' nsteps=3800 alpha=0.5`\n",
      "Running command `../bin/ex1 ../bin/rotate_friction.conf output='../data/rotate_friction,nsteps=3900,alpha=0.5.out' nsteps=3900 alpha=0.5`\n",
      "Running command `../bin/ex1 ../bin/rotate_friction.conf output='../data/rotate_friction,nsteps=4000,alpha=0.5.out' nsteps=4000 alpha=0.5`\n"
     ]
    }
   ],
   "source": [
    "params_variations = {\n",
    "    'nsteps': nsteps,\n",
    "    'alpha': [0.5],\n",
    "}\n",
    "config_name = \"rotate_friction\"\n",
    "all_params = tuple(\n",
    "    {a: b for a, b in zip(params_variations.keys(), c)} for c in product(*params_variations.values())\n",
    ")\n",
    "\n",
    "# Run simulations\n",
    "outputs = []  # List to store output file names\n",
    "for params in all_params:\n",
    "    output_file = f\"data/{config_name},{stringify_dict(params)}.out\"\n",
    "    outputs.append(output_file)\n",
    "    run(f'bin/{config_name}.conf', output_file, params)"
   ]
  },
  {
   "cell_type": "code",
   "execution_count": 9,
   "metadata": {},
   "outputs": [
    {
     "name": "stdout",
     "output_type": "stream",
     "text": [
      "[('data/rotate_friction,nsteps=100,alpha=0.5.out', {'nsteps': 100, 'alpha': 0.5}), ('data/rotate_friction,nsteps=200,alpha=0.5.out', {'nsteps': 200, 'alpha': 0.5}), ('data/rotate_friction,nsteps=300,alpha=0.5.out', {'nsteps': 300, 'alpha': 0.5}), ('data/rotate_friction,nsteps=400,alpha=0.5.out', {'nsteps': 400, 'alpha': 0.5}), ('data/rotate_friction,nsteps=500,alpha=0.5.out', {'nsteps': 500, 'alpha': 0.5}), ('data/rotate_friction,nsteps=600,alpha=0.5.out', {'nsteps': 600, 'alpha': 0.5}), ('data/rotate_friction,nsteps=700,alpha=0.5.out', {'nsteps': 700, 'alpha': 0.5}), ('data/rotate_friction,nsteps=800,alpha=0.5.out', {'nsteps': 800, 'alpha': 0.5}), ('data/rotate_friction,nsteps=900,alpha=0.5.out', {'nsteps': 900, 'alpha': 0.5}), ('data/rotate_friction,nsteps=1000,alpha=0.5.out', {'nsteps': 1000, 'alpha': 0.5}), ('data/rotate_friction,nsteps=1100,alpha=0.5.out', {'nsteps': 1100, 'alpha': 0.5}), ('data/rotate_friction,nsteps=1200,alpha=0.5.out', {'nsteps': 1200, 'alpha': 0.5}), ('data/rotate_friction,nsteps=1300,alpha=0.5.out', {'nsteps': 1300, 'alpha': 0.5}), ('data/rotate_friction,nsteps=1400,alpha=0.5.out', {'nsteps': 1400, 'alpha': 0.5}), ('data/rotate_friction,nsteps=1500,alpha=0.5.out', {'nsteps': 1500, 'alpha': 0.5}), ('data/rotate_friction,nsteps=1600,alpha=0.5.out', {'nsteps': 1600, 'alpha': 0.5}), ('data/rotate_friction,nsteps=1700,alpha=0.5.out', {'nsteps': 1700, 'alpha': 0.5}), ('data/rotate_friction,nsteps=1800,alpha=0.5.out', {'nsteps': 1800, 'alpha': 0.5}), ('data/rotate_friction,nsteps=1900,alpha=0.5.out', {'nsteps': 1900, 'alpha': 0.5}), ('data/rotate_friction,nsteps=2000,alpha=0.5.out', {'nsteps': 2000, 'alpha': 0.5}), ('data/rotate_friction,nsteps=2100,alpha=0.5.out', {'nsteps': 2100, 'alpha': 0.5}), ('data/rotate_friction,nsteps=2200,alpha=0.5.out', {'nsteps': 2200, 'alpha': 0.5}), ('data/rotate_friction,nsteps=2300,alpha=0.5.out', {'nsteps': 2300, 'alpha': 0.5}), ('data/rotate_friction,nsteps=2400,alpha=0.5.out', {'nsteps': 2400, 'alpha': 0.5}), ('data/rotate_friction,nsteps=2500,alpha=0.5.out', {'nsteps': 2500, 'alpha': 0.5}), ('data/rotate_friction,nsteps=2600,alpha=0.5.out', {'nsteps': 2600, 'alpha': 0.5}), ('data/rotate_friction,nsteps=2700,alpha=0.5.out', {'nsteps': 2700, 'alpha': 0.5}), ('data/rotate_friction,nsteps=2800,alpha=0.5.out', {'nsteps': 2800, 'alpha': 0.5}), ('data/rotate_friction,nsteps=2900,alpha=0.5.out', {'nsteps': 2900, 'alpha': 0.5}), ('data/rotate_friction,nsteps=3000,alpha=0.5.out', {'nsteps': 3000, 'alpha': 0.5}), ('data/rotate_friction,nsteps=3100,alpha=0.5.out', {'nsteps': 3100, 'alpha': 0.5}), ('data/rotate_friction,nsteps=3200,alpha=0.5.out', {'nsteps': 3200, 'alpha': 0.5}), ('data/rotate_friction,nsteps=3300,alpha=0.5.out', {'nsteps': 3300, 'alpha': 0.5}), ('data/rotate_friction,nsteps=3400,alpha=0.5.out', {'nsteps': 3400, 'alpha': 0.5}), ('data/rotate_friction,nsteps=3500,alpha=0.5.out', {'nsteps': 3500, 'alpha': 0.5}), ('data/rotate_friction,nsteps=3600,alpha=0.5.out', {'nsteps': 3600, 'alpha': 0.5}), ('data/rotate_friction,nsteps=3700,alpha=0.5.out', {'nsteps': 3700, 'alpha': 0.5}), ('data/rotate_friction,nsteps=3800,alpha=0.5.out', {'nsteps': 3800, 'alpha': 0.5}), ('data/rotate_friction,nsteps=3900,alpha=0.5.out', {'nsteps': 3900, 'alpha': 0.5}), ('data/rotate_friction,nsteps=4000,alpha=0.5.out', {'nsteps': 4000, 'alpha': 0.5})]\n"
     ]
    }
   ],
   "source": [
    "# Filter stuff\n",
    "explicit = []\n",
    "implicit = []\n",
    "semi_implicit = []\n",
    "\n",
    "for file, params in zip(outputs, all_params):\n",
    "    match params:\n",
    "        case {'alpha': 1}: explicit.append((file, params))\n",
    "        case {'alpha': 0.5}: semi_implicit.append((file, params))\n",
    "        case {'alpha': 0}: implicit.append((file, params))\n",
    "        case _: print(\"Feur alert\")\n",
    "\n",
    "print(semi_implicit)"
   ]
  },
  {
   "cell_type": "markdown",
   "metadata": {},
   "source": [
    "# Plots!"
   ]
  },
  {
   "cell_type": "code",
   "execution_count": 10,
   "metadata": {},
   "outputs": [
    {
     "data": {
      "image/png": "[encoded data removed]",
      "text/plain": [
       "<Figure size 400x350 with 1 Axes>"
      ]
     },
     "metadata": {},
     "output_type": "display_data"
    }
   ],
   "source": [
    "data = np.loadtxt(path + semi_implicit[-1][0])\n",
    "xx3, yy3 = data[:, 1], data[:, 2]\n",
    "plt.plot(xx3, yy3, c='b', label='Semi-implicit')\n",
    "\n",
    "plt.axis('equal')\n",
    "plt.xlabel(r'$x$ [m]')\n",
    "plt.ylabel(r'$y$ [m]')\n",
    "plt.grid()\n",
    "plt.legend()\n",
    "plt.savefig(export_path + 'grav_frict_position.pdf')\n",
    "plt.show()"
   ]
  },
  {
   "cell_type": "code",
   "execution_count": 11,
   "metadata": {},
   "outputs": [
    {
     "data": {
      "image/png": "[encoded data removed]",
      "text/plain": [
       "<Figure size 400x350 with 1 Axes>"
      ]
     },
     "metadata": {},
     "output_type": "display_data"
    },
    {
     "data": {
      "image/png": "[encoded data removed]",
      "text/plain": [
       "<Figure size 400x350 with 1 Axes>"
      ]
     },
     "metadata": {},
     "output_type": "display_data"
    }
   ],
   "source": [
    "\"\"\"\n",
    "Si on n'a pas la solution analytique: on représente la quantite voulue\n",
    "(ci-dessous v_y, TODO: modifier selon vos besoins)\n",
    "en fonction de (Delta t)^norder, ou norder est un entier.\n",
    "\"\"\"\n",
    "def calc(dataset):\n",
    "    stuffies = []\n",
    "    for i, (file, params) in enumerate(dataset):\n",
    "        data = np.loadtxt(path + file)\n",
    "        t, xx, yy, vx, vy, En = data[:, 0], data[:, 1], data[:, 2], data[:, 3], data[:, 4], data[:, 5]\n",
    "        stuffies.append(xx[-1])\n",
    "        stuffies.append(yy[-1])\n",
    "    return stuffies\n",
    "\n",
    "norder = 2  # TODO: Modify if needed\n",
    "\n",
    "stuff = calc(semi_implicit)\n",
    "plt.plot(dt**norder, stuff[::2], '+-', label='$x$')\n",
    "plt.xlabel(r'$(\\Delta t)^2$ [s]')\n",
    "plt.ylabel(r'$x$ [m]')\n",
    "plt.grid()\n",
    "plt.ticklabel_format(useOffset=False)\n",
    "ratio = 0.3\n",
    "xleft, xright = plt.xlim()\n",
    "ybottom, ytop = plt.ylim()\n",
    "plt.gca().set_aspect(abs((xright-xleft)/(ybottom-ytop))*ratio)\n",
    "plt.savefig(export_path + 'grav_frict_convergence_x.pdf')\n",
    "plt.show()\n",
    "\n",
    "plt.plot(dt**norder, stuff[1::2], '+-', c='tab:orange', label='$y$')\n",
    "plt.xlabel(r'$(\\Delta t)^2$ [s]')\n",
    "plt.ylabel(r'$y$ [m]')\n",
    "plt.grid()\n",
    "plt.ticklabel_format(useOffset=False)\n",
    "xleft, xright = plt.xlim()\n",
    "ybottom, ytop = plt.ylim()\n",
    "plt.gca().set_aspect(abs((xright-xleft)/(ybottom-ytop))*ratio)\n",
    "plt.savefig(export_path + 'grav_frict_convergence_y.pdf')"
   ]
  }
 ],
 "metadata": {
  "kernelspec": {
   "display_name": ".venv",
   "language": "python",
   "name": "python3"
  },
  "language_info": {
   "codemirror_mode": {
    "name": "ipython",
    "version": 3
   },
   "file_extension": ".py",
   "mimetype": "text/x-python",
   "name": "python",
   "nbconvert_exporter": "python",
   "pygments_lexer": "ipython3",
   "version": "3.12.2"
  }
 },
 "nbformat": 4,
 "nbformat_minor": 2
}
