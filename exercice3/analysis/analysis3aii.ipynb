{
 "cells": [
  {
   "cell_type": "code",
   "execution_count": 1,
   "metadata": {},
   "outputs": [],
   "source": [
    "# %matplotlib inline\n",
    "import numpy as np\n",
    "import scipy as sc\n",
    "import matplotlib as mpl\n",
    "import matplotlib.pyplot as plt\n",
    "import subprocess\n",
    "from concurrent.futures import ProcessPoolExecutor, Future\n",
    "from itertools import product\n",
    "\n",
    "from utils import *\n",
    "\n",
    "mpl.rcParams.update(rcParams)"
   ]
  },
  {
   "cell_type": "code",
   "execution_count": 2,
   "metadata": {},
   "outputs": [
    {
     "name": "stderr",
     "output_type": "stream",
     "text": [
      "src/Ex3_2024.cpp:54:74: warning: unused parameter 't' [-Wunused-parameter]\n",
      "        valarray<long double> get_f(const valarray<long double>& x, long double t) {\n",
      "                                                                                ^\n",
      "1 warning generated.\n"
     ]
    }
   ],
   "source": [
    "%%bash\n",
    "cd .. && make clean && make"
   ]
  },
  {
   "cell_type": "code",
   "execution_count": 3,
   "metadata": {},
   "outputs": [],
   "source": [
    "config_name = 'transfert'\n",
    "conf = load_conf(config_name)"
   ]
  },
  {
   "cell_type": "code",
   "execution_count": 4,
   "metadata": {},
   "outputs": [],
   "source": [
    "nsteps = np.geomspace(8000, 200000, num=30)\n",
    "\n",
    "tol = np.geomspace(10, 1e-6, num=30)\n",
    "\n",
    "au = 1.495978707e11  # m / au\n",
    "x_th = 1.5e9 / au\n",
    "y_th = 0"
   ]
  },
  {
   "cell_type": "code",
   "execution_count": 5,
   "metadata": {},
   "outputs": [],
   "source": [
    "params_variations_2 = {\n",
    "    'nsteps': nsteps,\n",
    "    'adapt': ['false'],\n",
    "}\n",
    "\n",
    "params_variations_1 = {\n",
    "    'adapt': ['true'],\n",
    "    'tol': tol,\n",
    "}\n",
    "\n",
    "all_params_1 = tuple(\n",
    "    {a: b for a, b in zip(params_variations_1.keys(), c)} for c in product(*params_variations_1.values())\n",
    ")\n",
    "\n",
    "all_params_2 = tuple(\n",
    "    {a: b for a, b in zip(params_variations_2.keys(), c)} for c in product(*params_variations_2.values())\n",
    ")\n",
    "\n",
    "all_params = all_params_1 + all_params_2"
   ]
  },
  {
   "cell_type": "code",
   "execution_count": 6,
   "metadata": {},
   "outputs": [
    {
     "name": "stdout",
     "output_type": "stream",
     "text": [
      "Running simulations... Done 60/60"
     ]
    }
   ],
   "source": [
    "count = 0\n",
    "def done(fut: Future) -> None:\n",
    "    global count\n",
    "    count += 1\n",
    "    print(f'\\rRunning simulations... Done {count}/{len(all_params)}', end='')\n",
    "\n",
    "# Run simulations *IN PARALLEL*\n",
    "outputs = []\n",
    "with ProcessPoolExecutor(max_workers=8) as p:\n",
    "    for params in all_params:\n",
    "        options = stringify_dict(params)\n",
    "        output_file = f\"{data_path}{config_name},{options}.out\"\n",
    "        outputs.append(output_file)\n",
    "        future = p.submit(run, f'{config_path}{config_name}{config_ext}', output_file, params)\n",
    "        future.add_done_callback(done)"
   ]
  },
  {
   "cell_type": "code",
   "execution_count": 7,
   "metadata": {},
   "outputs": [],
   "source": [
    "# Load stuff in memory\n",
    "all_data = {}\n",
    "\n",
    "for file, params in zip(outputs, all_params):\n",
    "    data = np.loadtxt(path + file)\n",
    "    all_data[file] = (params, np.copy(data))"
   ]
  },
  {
   "cell_type": "markdown",
   "metadata": {},
   "source": [
    "# Plots!"
   ]
  },
  {
   "cell_type": "code",
   "execution_count": 8,
   "metadata": {},
   "outputs": [],
   "source": [
    "Nsteps_non = []\n",
    "errors_pos_non = []\n",
    "errors_energies_non = []\n",
    "\n",
    "Nsteps_adapt = []\n",
    "errors_pos_adapt = []\n",
    "errors_energies_adapt = []\n",
    "for (params, data) in all_data.values():\n",
    "    t, x, y, energies = data[:,0], data[:,1]/au, data[:,2]/au, data[:,5]\n",
    "    nsteps = data[-1,-2]\n",
    "    if params['adapt']=='false':\n",
    "        Nsteps_non.append(nsteps)\n",
    "        errors_pos_non.append(np.sqrt((x[-1]-x_th)**2 + (y[-1]-y_th)**2))\n",
    "        errors_energies_non.append(np.max(energies) - np.min(energies))\n",
    "        \n",
    "    if params['adapt']=='true':\n",
    "        Nsteps_adapt.append(nsteps)\n",
    "        errors_pos_adapt.append(np.sqrt((x[-1]-x_th)**2 + (y[-1]-y_th)**2))\n",
    "        errors_energies_adapt.append(np.max(energies) - np.min(energies))\n",
    "\n",
    "Nsteps_non = np.array(Nsteps_non)\n",
    "errors_pos_non = np.array(errors_pos_non)\n",
    "errors_energies_non = np.array(errors_energies_non)\n",
    "\n",
    "\n",
    "Nsteps_adapt = np.array(Nsteps_adapt)\n",
    "errors_pos_adapt = np.array(errors_pos_adapt)\n",
    "errors_energies_adapt = np.array(errors_energies_adapt)\n"
   ]
  },
  {
   "cell_type": "code",
   "execution_count": 9,
   "metadata": {},
   "outputs": [
    {
     "data": {
      "image/png": "[encoded data removed]",
      "text/plain": [
       "<Figure size 400x300 with 1 Axes>"
      ]
     },
     "metadata": {},
     "output_type": "display_data"
    }
   ],
   "source": [
    "plt.plot(Nsteps_non, errors_pos_non, marker='.', mfc='white', markersize=8, label='Non-adaptative')\n",
    "\n",
    "plt.plot(Nsteps_adapt, errors_pos_adapt, marker='.', mfc='white', markersize=8, label='Adaptative')\n",
    "\n",
    "plt.xscale('log')\n",
    "plt.yscale('log')\n",
    "\n",
    "\n",
    "plt.grid()\n",
    "plt.legend()\n",
    "\n",
    "plt.xlabel(r'$n_{steps}$')\n",
    "plt.ylabel(r'error on final position [au]')\n",
    "\n",
    "plt.savefig(export_path + 'transfert_error_pos.pdf')"
   ]
  },
  {
   "cell_type": "code",
   "execution_count": 10,
   "metadata": {},
   "outputs": [
    {
     "data": {
      "image/png": "[encoded data removed]",
      "text/plain": [
       "<Figure size 400x300 with 1 Axes>"
      ]
     },
     "metadata": {},
     "output_type": "display_data"
    }
   ],
   "source": [
    "plt.plot(Nsteps_non, errors_energies_non, marker='.', mfc='white', markersize=8, label='Non-adaptative')\n",
    "\n",
    "plt.plot(Nsteps_adapt, errors_energies_adapt, marker='.', mfc='white', markersize=8, label='Adaptative')\n",
    "\n",
    "plt.xscale('log')\n",
    "plt.yscale('log')\n",
    "\n",
    "\n",
    "plt.grid()\n",
    "plt.legend()\n",
    "\n",
    "plt.xlabel(r'$n_{steps}$')\n",
    "plt.ylabel(r'error on energy [J/kg]')\n",
    "\n",
    "plt.savefig(export_path + 'transfert_error_energy.pdf')"
   ]
  },
  {
   "cell_type": "code",
   "execution_count": null,
   "metadata": {},
   "outputs": [],
   "source": []
  }
 ],
 "metadata": {
  "kernelspec": {
   "display_name": ".venv",
   "language": "python",
   "name": "python3"
  },
  "language_info": {
   "codemirror_mode": {
    "name": "ipython",
    "version": 3
   },
   "file_extension": ".py",
   "mimetype": "text/x-python",
   "name": "python",
   "nbconvert_exporter": "python",
   "pygments_lexer": "ipython3",
   "version": "3.11.6"
  }
 },
 "nbformat": 4,
 "nbformat_minor": 2
}
