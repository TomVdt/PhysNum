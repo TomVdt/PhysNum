{
 "cells": [
  {
   "cell_type": "code",
   "execution_count": 18,
   "metadata": {},
   "outputs": [],
   "source": [
    "# %matplotlib inline\n",
    "import numpy as np\n",
    "import scipy as sc\n",
    "import matplotlib as mpl\n",
    "import matplotlib.pyplot as plt\n",
    "import subprocess\n",
    "from concurrent.futures import ProcessPoolExecutor, Future\n",
    "from itertools import product\n",
    "\n",
    "from utils import *\n",
    "\n",
    "mpl.rcParams.update(rcParams)"
   ]
  },
  {
   "cell_type": "code",
   "execution_count": 19,
   "metadata": {},
   "outputs": [
    {
     "name": "stdout",
     "output_type": "stream",
     "text": [
      "clang++ -o bin/ex3 src/Ex3_2024.cpp -std=c++17 -Wall -Wextra -O2 \n"
     ]
    },
    {
     "name": "stderr",
     "output_type": "stream",
     "text": [
      "src/Ex3_2024.cpp:49:59: warning: unused parameter 't' [-Wunused-parameter]\n",
      "   49 |         valarray<double> get_f(const valarray<double>& x, double t) {\n",
      "      |                                                                  ^\n",
      "1 warning generated.\n"
     ]
    }
   ],
   "source": [
    "%%bash\n",
    "cd .. && make clean && make"
   ]
  },
  {
   "cell_type": "code",
   "execution_count": 20,
   "metadata": {},
   "outputs": [],
   "source": [
    "config_name = 'lagrange2'\n",
    "conf = load_conf(config_name)"
   ]
  },
  {
   "cell_type": "code",
   "execution_count": 21,
   "metadata": {},
   "outputs": [
    {
     "data": {
      "text/plain": [
       "63072000"
      ]
     },
     "execution_count": 21,
     "metadata": {},
     "output_type": "execute_result"
    }
   ],
   "source": [
    "tFin = 2 * 365 * 24 * 60 * 60\n",
    "tFin"
   ]
  },
  {
   "cell_type": "code",
   "execution_count": 51,
   "metadata": {},
   "outputs": [
    {
     "data": {
      "text/plain": [
       "array([-7.47992112e+10+1.29555602e+11j, -7.47992112e+10-1.29555602e+11j,\n",
       "        1.51099099e+11+0.00000000e+00j,  1.48846786e+11+1.29172944e+09j,\n",
       "        1.48846786e+11-1.29172944e+09j])"
      ]
     },
     "execution_count": 51,
     "metadata": {},
     "output_type": "execute_result"
    }
   ],
   "source": [
    "# Position Lagrange 2\n",
    "G = 6.674e-11\n",
    "d = 149.598023e9\n",
    "ms = conf['m1']\n",
    "mt = conf['m2']\n",
    "xs = -mt * d / (mt + ms)\n",
    "xt = ms * d / (mt + ms)\n",
    "Omega = np.sqrt(G * ms / (d**2 * xt))\n",
    "Omega2 = Omega**2\n",
    "\n",
    "coefs = [\n",
    "    Omega2,\n",
    "    -2 * Omega2 * (xs+xt),\n",
    "    Omega2 * ((xt + xs)**2 + 2 * xt * xs),\n",
    "    -(G * (ms + mt) + 2 * Omega2 * xt * xs * (xt + xs)),\n",
    "    2 * G * (ms * xt + mt * xs) + Omega2 * xt**2 * xs**2,\n",
    "    -G * (ms * xt**2 + mt * xs**2)\n",
    "]\n",
    "np.roots(coefs)"
   ]
  },
  {
   "cell_type": "code",
   "execution_count": 53,
   "metadata": {},
   "outputs": [],
   "source": [
    "def gen_variations(kwargs: dict[str, Any]) -> tuple[dict[str, Any], ...]:\n",
    "    return tuple(\n",
    "        {a: b for a, b in zip(kwargs.keys(), c)} for c in product(*kwargs.values())\n",
    "    )"
   ]
  },
  {
   "cell_type": "code",
   "execution_count": 85,
   "metadata": {},
   "outputs": [],
   "source": [
    "nsteps = np.linspace(10, 100, 50)\n",
    "# params_variations = {\n",
    "#     'nsteps': nsteps,\n",
    "#     'adapt': ['true', 'false'],\n",
    "# }\n",
    "all_params = (\n",
    "    *gen_variations({\n",
    "        'nsteps': nsteps,\n",
    "        'adapt': ('false',),\n",
    "    }),\n",
    "    *gen_variations({\n",
    "        'tol': np.geomspace(30, 1000000000, 50),\n",
    "        'adapt': ('true',),\n",
    "    }),\n",
    ")"
   ]
  },
  {
   "cell_type": "code",
   "execution_count": 86,
   "metadata": {},
   "outputs": [
    {
     "name": "stdout",
     "output_type": "stream",
     "text": [
      "Running simulations... Done 100/100"
     ]
    }
   ],
   "source": [
    "count = 0\n",
    "def done(fut: Future) -> None:\n",
    "    global count\n",
    "    count += 1\n",
    "    print(f'\\rRunning simulations... Done {count}/{len(all_params)}', end='')\n",
    "\n",
    "# Run simulations *IN PARALLEL*\n",
    "outputs = []\n",
    "with ProcessPoolExecutor(max_workers=8) as p:\n",
    "    for params in all_params:\n",
    "        options = stringify_dict(params)\n",
    "        output_file = f\"{data_path}{config_name},{options}.out\"\n",
    "        outputs.append(output_file)\n",
    "        future = p.submit(run, f'{config_path}{config_name}{config_ext}', output_file, params)\n",
    "        future.add_done_callback(done)"
   ]
  },
  {
   "cell_type": "code",
   "execution_count": 87,
   "metadata": {},
   "outputs": [],
   "source": [
    "# Load stuff in memory\n",
    "all_data = {}\n",
    "all_adapt = {}\n",
    "all_fixed = {}\n",
    "\n",
    "for file, params in zip(outputs, all_params):\n",
    "    data = np.loadtxt(path + file)\n",
    "    all_data[file] = (params, data)\n",
    "    match params.get('adapt'):\n",
    "        case 'true':\n",
    "            all_adapt[file] = (params, data)\n",
    "        case 'false':\n",
    "            all_fixed[file] = (params, data)\n",
    "        case _:\n",
    "            print(\"FEUR ALERT!!!\", params)"
   ]
  },
  {
   "cell_type": "markdown",
   "metadata": {},
   "source": [
    "# Plots!"
   ]
  },
  {
   "cell_type": "code",
   "execution_count": 89,
   "metadata": {},
   "outputs": [
    {
     "name": "stdout",
     "output_type": "stream",
     "text": [
      "8.0\n"
     ]
    },
    {
     "data": {
      "text/plain": [
       "(106007093928.02206, 159582716208.15695, -113856998992.2813, 5421761856.7753)"
      ]
     },
     "execution_count": 89,
     "metadata": {},
     "output_type": "execute_result"
    },
    {
     "data": {
      "image/png": "[encoded data removed]",
      "text/plain": [
       "<Figure size 800x800 with 1 Axes>"
      ]
     },
     "metadata": {},
     "output_type": "display_data"
    }
   ],
   "source": [
    "# Do plots!\n",
    "plt.figure(figsize=(8, 8))\n",
    "for i, (params, data) in enumerate(all_adapt.values()):\n",
    "    if i != len(all_adapt) - 1: continue\n",
    "    t, x, y, ns = data[:,0], data[:,1], data[:,2], data[:,6]\n",
    "    print(ns[-1])\n",
    "    plt.plot(x, y)\n",
    "\n",
    "plt.xlabel(r'$x$ [m]')\n",
    "plt.ylabel(r'$y$ [m]')\n",
    "plt.axis('equal')"
   ]
  }
 ],
 "metadata": {
  "kernelspec": {
   "display_name": ".venv",
   "language": "python",
   "name": "python3"
  },
  "language_info": {
   "codemirror_mode": {
    "name": "ipython",
    "version": 3
   },
   "file_extension": ".py",
   "mimetype": "text/x-python",
   "name": "python",
   "nbconvert_exporter": "python",
   "pygments_lexer": "ipython3",
   "version": "3.12.2"
  }
 },
 "nbformat": 4,
 "nbformat_minor": 2
}
