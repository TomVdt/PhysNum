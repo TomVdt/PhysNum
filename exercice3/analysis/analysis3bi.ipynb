{
 "cells": [
  {
   "cell_type": "code",
   "execution_count": 1,
   "metadata": {},
   "outputs": [],
   "source": [
    "# %matplotlib inline\n",
    "import numpy as np\n",
    "import scipy as sc\n",
    "import matplotlib as mpl\n",
    "import matplotlib.pyplot as plt\n",
    "import subprocess\n",
    "from concurrent.futures import ProcessPoolExecutor, Future\n",
    "from itertools import product\n",
    "\n",
    "from utils import *\n",
    "\n",
    "mpl.rcParams.update(rcParams)"
   ]
  },
  {
   "cell_type": "code",
   "execution_count": 2,
   "metadata": {},
   "outputs": [
    {
     "name": "stdout",
     "output_type": "stream",
     "text": [
      "clang++ -o bin/ex3 src/Ex3_2024.cpp -std=c++17 -Wall -Wextra -Wuninitialized -O2 \n"
     ]
    },
    {
     "name": "stderr",
     "output_type": "stream",
     "text": [
      "src/Ex3_2024.cpp:48:59: warning: unused parameter 't' [-Wunused-parameter]\n",
      "   48 |         valarray<double> get_f(const valarray<double>& x, double t) {\n",
      "      |                                                                  ^\n",
      "1 warning generated.\n"
     ]
    }
   ],
   "source": [
    "%%bash\n",
    "cd .. && make clean && make"
   ]
  },
  {
   "cell_type": "code",
   "execution_count": 3,
   "metadata": {},
   "outputs": [],
   "source": [
    "config_name = 'lagrange2'\n",
    "conf = load_conf(config_name)"
   ]
  },
  {
   "cell_type": "code",
   "execution_count": 4,
   "metadata": {},
   "outputs": [
    {
     "data": {
      "text/plain": [
       "630720000"
      ]
     },
     "execution_count": 4,
     "metadata": {},
     "output_type": "execute_result"
    }
   ],
   "source": [
    "tFin = 20 * 365 * 24 * 60 * 60\n",
    "tFin"
   ]
  },
  {
   "cell_type": "code",
   "execution_count": 5,
   "metadata": {},
   "outputs": [],
   "source": [
    "# Position Lagrange 2\n",
    "G = 6.674e-11\n",
    "d = 149.598023e9\n",
    "ms = conf['m1']\n",
    "mt = conf['m2']\n",
    "xs = -mt * d / (mt + ms)\n",
    "xt = ms * d / (mt + ms)\n",
    "Omega = np.sqrt(G * ms / (d**2 * xt))\n",
    "Omega2 = Omega**2\n",
    "\n",
    "coefs = [\n",
    "    Omega2,\n",
    "    -2 * Omega2 * (xs+xt),\n",
    "    Omega2 * ((xt + xs)**2 + 2 * xt * xs),\n",
    "    -(G * (ms + mt) + 2 * Omega2 * xt * xs * (xt + xs)),\n",
    "    2 * G * (ms * xt + mt * xs) + Omega2 * xt**2 * xs**2,\n",
    "    -G * (ms * xt**2 + mt * xs**2)\n",
    "]\n",
    "roots = np.roots(coefs)\n",
    "assert roots[2].imag == 0.0\n",
    "L2x = roots[2].real"
   ]
  },
  {
   "cell_type": "code",
   "execution_count": 6,
   "metadata": {},
   "outputs": [],
   "source": [
    "def gen_variations(kwargs: dict[str, Any]) -> tuple[dict[str, Any], ...]:\n",
    "    return tuple(\n",
    "        {a: b for a, b in zip(kwargs.keys(), c)} for c in product(*kwargs.values())\n",
    "    )"
   ]
  },
  {
   "cell_type": "code",
   "execution_count": 7,
   "metadata": {},
   "outputs": [],
   "source": [
    "nsteps = np.linspace(2000, 20000, 100)\n",
    "# params_variations = {\n",
    "#     'nsteps': nsteps,\n",
    "#     'adapt': ['true', 'false'],\n",
    "# }\n",
    "all_params = (\n",
    "    *gen_variations({\n",
    "        'nsteps': nsteps,\n",
    "        'adapt': ('false',),\n",
    "        'tFin': (tFin,),\n",
    "    }),\n",
    "    *gen_variations({\n",
    "        'tol': np.geomspace(1e-3, 100000, 100),\n",
    "        'adapt': ('true',),\n",
    "        'tFin': (tFin,),\n",
    "    }),\n",
    ")"
   ]
  },
  {
   "cell_type": "code",
   "execution_count": 8,
   "metadata": {},
   "outputs": [
    {
     "name": "stdout",
     "output_type": "stream",
     "text": [
      "Running simulations... Done 200/200"
     ]
    }
   ],
   "source": [
    "count = 0\n",
    "def done(fut: Future) -> None:\n",
    "    global count\n",
    "    count += 1\n",
    "    print(f'\\rRunning simulations... Done {count}/{len(all_params)}', end='')\n",
    "\n",
    "# Run simulations *IN PARALLEL*\n",
    "outputs = []\n",
    "with ProcessPoolExecutor(max_workers=8) as p:\n",
    "    for params in all_params:\n",
    "        options = stringify_dict(params)\n",
    "        output_file = f\"{data_path}{config_name},{options}.out\"\n",
    "        outputs.append(output_file)\n",
    "        future = p.submit(run, f'{config_path}{config_name}{config_ext}', output_file, params)\n",
    "        future.add_done_callback(done)"
   ]
  },
  {
   "cell_type": "code",
   "execution_count": 9,
   "metadata": {},
   "outputs": [],
   "source": [
    "# Load stuff in memory\n",
    "all_data = {}\n",
    "all_adapt = {}\n",
    "all_fixed = {}\n",
    "\n",
    "for file, params in zip(outputs, all_params):\n",
    "    data = np.loadtxt(path + file)\n",
    "    all_data[file] = (params, data)\n",
    "    match params.get('adapt'):\n",
    "        case 'true':\n",
    "            all_adapt[file] = (params, data)\n",
    "        case 'false':\n",
    "            all_fixed[file] = (params, data)\n",
    "        case _:\n",
    "            print(\"FEUR ALERT!!!\", params)"
   ]
  },
  {
   "cell_type": "markdown",
   "metadata": {},
   "source": [
    "# Plots!"
   ]
  },
  {
   "cell_type": "code",
   "execution_count": 10,
   "metadata": {},
   "outputs": [
    {
     "name": "stdout",
     "output_type": "stream",
     "text": [
      "42446.0\n"
     ]
    },
    {
     "data": {
      "image/png": "[encoded data removed]",
      "text/plain": [
       "<Figure size 600x500 with 1 Axes>"
      ]
     },
     "metadata": {},
     "output_type": "display_data"
    }
   ],
   "source": [
    "%matplotlib inline\n",
    "# Do plots!\n",
    "# plt.figure(figsize=(8, 8))\n",
    "\n",
    "au = 1.495978707e11  # m / au\n",
    "\n",
    "for i, (params, data) in enumerate(all_adapt.values()):\n",
    "    if i != 0: continue\n",
    "    t, x, y, vx, vy, ns = data[:,0], data[:,1] / au, data[:,2] / au, data[:,3], data[:,4], data[:,6]\n",
    "    print(ns[-1])\n",
    "    line, = plt.plot(x, y, '-', markersize=5)\n",
    "\n",
    "# for i, (params, data) in enumerate(all_fixed.values()):\n",
    "#     if i != len(all_fixed)-1: continue\n",
    "#     t, x, y, ns = data[:,0], data[:,1] / au, data[:,2] / au, data[:,6]\n",
    "#     print(ns[-1])\n",
    "#     line, = plt.plot(x, y, '-', markersize=5)\n",
    "\n",
    "# plt.plot(xs/au, 0, 'o', color='red', label='Soleil', markersize=5, zorder=2)\n",
    "plt.plot(xt/au, 0, 'o', color='blue', label='Terre', markersize=5, zorder=2)\n",
    "plt.plot(L2x/au, 0, 'x', color='black', label='L2', markersize=5, zorder=2)\n",
    "\n",
    "plt.xlabel(r'$x$ [au]')\n",
    "plt.ylabel(r'$y$ [au]')\n",
    "plt.axis('equal')\n",
    "# plt.legend()\n",
    "plt.grid()"
   ]
  },
  {
   "cell_type": "code",
   "execution_count": null,
   "metadata": {},
   "outputs": [],
   "source": [
    "xfs = np.zeros(len(all_fixed))\n",
    "yfs = np.zeros(len(all_fixed))\n",
    "nsfs = np.zeros(len(all_fixed))\n",
    "emec_error = np.zeros(len(all_fixed))\n",
    "for i, (params, data) in enumerate(all_fixed.values()):\n",
    "    tf, xf, yf, nrj, nsf = data[-1,0], data[-1,1] / au, data[-1,2] / au, data[:,5], data[-1,6]\n",
    "    xfs[i] = xf\n",
    "    yfs[i] = yf\n",
    "    nsfs[i] = nsf\n",
    "    emec_error[i] = np.max(nrj) - np.min(nrj)"
   ]
  },
  {
   "cell_type": "code",
   "execution_count": null,
   "metadata": {},
   "outputs": [],
   "source": [
    "plt.plot(nsfs, xfs, 'x-')\n",
    "\n",
    "plt.xlabel(r'$n_\\textrm{steps}$')\n",
    "plt.ylabel(r'$x$ [au]')\n",
    "plt.grid()"
   ]
  },
  {
   "cell_type": "code",
   "execution_count": null,
   "metadata": {},
   "outputs": [],
   "source": [
    "plt.plot(nsfs, yfs, 'x-')\n",
    "\n",
    "plt.xlabel(r'$n_\\textrm{steps}$')\n",
    "plt.ylabel(r'$y$ [au]')\n",
    "plt.grid()"
   ]
  },
  {
   "cell_type": "code",
   "execution_count": null,
   "metadata": {},
   "outputs": [],
   "source": [
    "xfs = np.zeros(len(all_adapt))\n",
    "yfs = np.zeros(len(all_adapt))\n",
    "nsfs = np.zeros(len(all_adapt))\n",
    "emec_error = np.zeros(len(all_adapt))\n",
    "for i, (params, data) in enumerate(all_adapt.values()):\n",
    "    tf, xf, yf, nrj, nsf = data[-1,0], data[-1,1] / au, data[-1,2] / au, data[:,5], data[-1,6]\n",
    "    xfs[i] = xf\n",
    "    yfs[i] = yf\n",
    "    nsfs[i] = nsf\n",
    "    emec_error[i] = np.max(nrj) - np.min(nrj)"
   ]
  },
  {
   "cell_type": "code",
   "execution_count": null,
   "metadata": {},
   "outputs": [],
   "source": [
    "plt.plot(nsfs, xfs, 'x-')\n",
    "\n",
    "plt.xlabel(r'$n_\\textrm{steps}$')\n",
    "plt.ylabel(r'$x$ [au]')\n",
    "plt.grid()"
   ]
  },
  {
   "cell_type": "code",
   "execution_count": null,
   "metadata": {},
   "outputs": [],
   "source": [
    "plt.plot(nsfs**-5, yfs, 'x-')\n",
    "\n",
    "plt.xlabel(r'$n_\\textrm{steps}$')\n",
    "plt.ylabel(r'$y$ [au]')\n",
    "plt.grid()"
   ]
  },
  {
   "cell_type": "code",
   "execution_count": null,
   "metadata": {},
   "outputs": [],
   "source": [
    "plt.plot(nsfs, emec_error)\n",
    "\n",
    "plt.xlabel(r'$n_\\textrm{steps}$')\n",
    "plt.ylabel(r'$y$ [au]')\n",
    "plt.grid()"
   ]
  },
  {
   "cell_type": "code",
   "execution_count": null,
   "metadata": {},
   "outputs": [],
   "source": [
    "%matplotlib qt\n",
    "import matplotlib.animation as mpla\n",
    "\n",
    "plt.figure(figsize=(8, 8))\n",
    "\n",
    "params, data = next(iter(reversed(all_fixed.values())))\n",
    "t, xp, yp, ns = data[:,0], data[:,1], data[:,2], data[:,6]\n",
    "x = xp * np.cos(Omega * t) - yp * np.sin(Omega * t)\n",
    "y = xp * np.sin(Omega * t) + yp * np.cos(Omega * t)\n",
    "line, = plt.plot(x[0], y[0], 'x-', markersize=5)\n",
    "size = len(t)\n",
    "\n",
    "terre, = plt.plot(xt, 0, 'o', color='blue', label='Terre', markersize=5, zorder=2)\n",
    "soleil, = plt.plot(xs, 0, 'o', color='red', label='Soleil', markersize=5, zorder=2)\n",
    "lagrange2, = plt.plot(L2x, 0, 'x', color='black', label='L2', markersize=5, zorder=2)\n",
    "\n",
    "def animate(i) -> Any:\n",
    "    idx = i % len(t)\n",
    "    line.set_data(x[max(0, idx-5):idx], y[max(0, idx-5):idx])\n",
    "    terre.set_data([xt * np.cos(Omega * t[idx])], [xt * np.sin(Omega * t[idx])])\n",
    "    soleil.set_data([xs * np.cos(Omega * t[idx])], [xs * np.sin(Omega * t[idx])])\n",
    "    lagrange2.set_data([L2x * np.cos(Omega * t[idx])], [L2x * np.sin(Omega * t[idx])])\n",
    "    # plt.tight_layout()\n",
    "\n",
    "anim = mpla.FuncAnimation(plt.gcf(), animate, interval=20, cache_frame_data=True, frames=1000)\n",
    "\n",
    "plt.xlabel(r'$x$ [m]')\n",
    "plt.ylabel(r'$y$ [m]')\n",
    "plt.xlim(np.min(x)*1.1, np.max(x)*1.1)\n",
    "plt.ylim(np.min(y)*1.1, np.max(y)*1.1)\n",
    "plt.axis('equal')\n",
    "# plt.legend()\n",
    "plt.grid()"
   ]
  }
 ],
 "metadata": {
  "kernelspec": {
   "display_name": ".venv",
   "language": "python",
   "name": "python3"
  },
  "language_info": {
   "codemirror_mode": {
    "name": "ipython",
    "version": 3
   },
   "file_extension": ".py",
   "mimetype": "text/x-python",
   "name": "python",
   "nbconvert_exporter": "python",
   "pygments_lexer": "ipython3",
   "version": "3.12.2"
  }
 },
 "nbformat": 4,
 "nbformat_minor": 2
}
